{
  "nbformat": 4,
  "nbformat_minor": 0,
  "metadata": {
    "colab": {
      "provenance": [],
      "authorship_tag": "ABX9TyN0v5CVu0Gn/zmRf7L8ABn+"
    },
    "kernelspec": {
      "name": "python3",
      "display_name": "Python 3"
    },
    "language_info": {
      "name": "python"
    }
  },
  "cells": [
    {
      "cell_type": "code",
      "execution_count": null,
      "metadata": {
        "colab": {
          "base_uri": "https://localhost:8080/",
          "height": 36
        },
        "id": "fVKrf8KmfTwy",
        "outputId": "9de09197-713e-47cd-f768-a10e26f2fb0e"
      },
      "outputs": [
        {
          "output_type": "execute_result",
          "data": {
            "text/plain": [
              "'Hello john'"
            ],
            "application/vnd.google.colaboratory.intrinsic+json": {
              "type": "string"
            }
          },
          "metadata": {},
          "execution_count": 1
        }
      ],
      "source": [
        "#fonksiyon oluşturmak\n",
        "def say_hello(name):\n",
        "  return f'Hello {name}'\n",
        "\n",
        "say_hello('john')"
      ]
    },
    {
      "cell_type": "code",
      "source": [
        "def add(num1,num2):\n",
        "  sum= num1+num2\n",
        "  print('Sum :',sum)\n",
        "\n",
        "\n",
        "add(2,3)\n"
      ],
      "metadata": {
        "colab": {
          "base_uri": "https://localhost:8080/"
        },
        "id": "rNdQAFUZgX3O",
        "outputId": "c3df4540-15b4-4441-d12a-a76bfaa5d76a"
      },
      "execution_count": null,
      "outputs": [
        {
          "output_type": "stream",
          "name": "stdout",
          "text": [
            "Sum : 5\n"
          ]
        }
      ]
    },
    {
      "cell_type": "markdown",
      "source": [
        "--------------------"
      ],
      "metadata": {
        "id": "eTUDslpYg_d6"
      }
    },
    {
      "cell_type": "code",
      "source": [
        "#Decorator olusturmak\n",
        "def my_decorator(func):\n",
        "    def wrapper():\n",
        "        print('Somethink is happening before the function called')\n",
        "        func()\n",
        "        print('Somethink is happening after the function called')\n",
        "    return wrapper\n",
        "\n",
        "\n",
        "@my_decorator\n",
        "def say_hello():\n",
        "    print('Hello')\n",
        "\n",
        "say_hello()"
      ],
      "metadata": {
        "colab": {
          "base_uri": "https://localhost:8080/"
        },
        "id": "rUjS8BL6g8Bm",
        "outputId": "b9e36860-f666-421d-9568-fd3b27992317"
      },
      "execution_count": null,
      "outputs": [
        {
          "output_type": "stream",
          "name": "stdout",
          "text": [
            "Somethink is happening before the function called\n",
            "Hello\n",
            "Somethink is happening after the function called\n"
          ]
        }
      ]
    },
    {
      "cell_type": "code",
      "source": [
        "#Generator oluşturma\n",
        "def new_generator():\n",
        "  yield 1\n",
        "  yield 2\n",
        "  yield 3\n",
        "\n",
        "for value in new_generator():\n",
        "  print(value)"
      ],
      "metadata": {
        "colab": {
          "base_uri": "https://localhost:8080/"
        },
        "id": "zbbVPF7mqfS9",
        "outputId": "aee93c54-bb61-41b5-fac3-a3550b4dfd59"
      },
      "execution_count": null,
      "outputs": [
        {
          "output_type": "stream",
          "name": "stdout",
          "text": [
            "1\n",
            "2\n",
            "3\n"
          ]
        }
      ]
    },
    {
      "cell_type": "code",
      "source": [
        "def simple_generator():\n",
        "  yield 1\n",
        "  yield 2\n",
        "  yield 3\n",
        "\n",
        "x = simple_generator()\n",
        "\n",
        "print(next(x))\n",
        "print(next(x))"
      ],
      "metadata": {
        "colab": {
          "base_uri": "https://localhost:8080/"
        },
        "id": "jRzJDFZkrxW7",
        "outputId": "308cae42-e22a-4a76-8637-4910052757ad"
      },
      "execution_count": null,
      "outputs": [
        {
          "output_type": "stream",
          "name": "stdout",
          "text": [
            "1\n",
            "2\n"
          ]
        }
      ]
    },
    {
      "cell_type": "code",
      "source": [
        "def fib(limit):\n",
        "\n",
        "  a , b = 0,1\n",
        "\n",
        "  while a < limit:\n",
        "    yield a\n",
        "    a,b = b,a+b\n",
        "\n",
        "for i in fib(10):\n",
        "  print(i)\n",
        "\n"
      ],
      "metadata": {
        "colab": {
          "base_uri": "https://localhost:8080/"
        },
        "id": "ot2BvW4Xti4E",
        "outputId": "538b8299-36fd-4e02-a5be-da169d05bd14"
      },
      "execution_count": null,
      "outputs": [
        {
          "output_type": "stream",
          "name": "stdout",
          "text": [
            "0\n",
            "1\n",
            "1\n",
            "2\n",
            "3\n",
            "5\n",
            "8\n"
          ]
        }
      ]
    },
    {
      "cell_type": "markdown",
      "source": [
        "try-except yapısı"
      ],
      "metadata": {
        "id": "ATuGkjTJJUta"
      }
    },
    {
      "cell_type": "code",
      "source": [
        "try:\n",
        "  x = 10/0\n",
        "except ZeroDivisionError:\n",
        "  print('This number can not divide by zero')\n",
        "finally :\n",
        "  print('This will execute no matter what')\n"
      ],
      "metadata": {
        "colab": {
          "base_uri": "https://localhost:8080/"
        },
        "id": "moHktsibINlu",
        "outputId": "bbf016f4-6514-4cf8-9764-7d6caa2ded71"
      },
      "execution_count": null,
      "outputs": [
        {
          "output_type": "stream",
          "name": "stdout",
          "text": [
            "This number can not divide by zero\n",
            "This will execute no matter what\n"
          ]
        }
      ]
    },
    {
      "cell_type": "code",
      "source": [
        "#Class and object yapisi\n",
        "class Dog:\n",
        "  def __init__(self,name):\n",
        "    self.name = name\n",
        "\n",
        "  def say_woof(self):\n",
        "    return f'{self.name} says Woofff!'\n",
        "\n",
        "#instant olustur\n",
        "my_dog = Dog('Carlos')\n",
        "my_dog.say_woof()\n",
        "\n"
      ],
      "metadata": {
        "colab": {
          "base_uri": "https://localhost:8080/",
          "height": 36
        },
        "id": "Dr1O_k98JS0E",
        "outputId": "e25da953-b6fa-4fae-a392-8615428ad4ae"
      },
      "execution_count": null,
      "outputs": [
        {
          "output_type": "execute_result",
          "data": {
            "text/plain": [
              "'Carlos says Woofff!'"
            ],
            "application/vnd.google.colaboratory.intrinsic+json": {
              "type": "string"
            }
          },
          "metadata": {},
          "execution_count": 3
        }
      ]
    },
    {
      "cell_type": "code",
      "source": [
        "class Soldier:\n",
        "  def __init__(self,name,healty):\n",
        "    self.name=name\n",
        "    self.healty = healty\n",
        "\n",
        "  def say_hello(self):\n",
        "    return f'{self.name} say Hi.He healty is {self.healty}'\n",
        "\n",
        "soldier_one = Soldier('Rasim',75)\n",
        "soldier_one.say_hello()"
      ],
      "metadata": {
        "colab": {
          "base_uri": "https://localhost:8080/",
          "height": 36
        },
        "id": "EUNPmKVSJM3w",
        "outputId": "1410202f-5462-4825-b08a-5089838fae84"
      },
      "execution_count": null,
      "outputs": [
        {
          "output_type": "execute_result",
          "data": {
            "text/plain": [
              "'Rasim say Hi.He healty is 75'"
            ],
            "application/vnd.google.colaboratory.intrinsic+json": {
              "type": "string"
            }
          },
          "metadata": {},
          "execution_count": 6
        }
      ]
    },
    {
      "cell_type": "code",
      "source": [
        "class Animal:\n",
        "  def speak(self):\n",
        "    pass\n",
        "\n",
        "\n",
        "class Dog(Animal):\n",
        "  def speak(self):\n",
        "    print('WOOOF')\n",
        "\n",
        "class Cat(Animal):\n",
        "  def speak(self):\n",
        "    print('Meoooww')\n",
        "\n",
        "\n",
        "animals = [Dog(),Cat()]\n",
        "\n",
        "for animal in animals:\n",
        "  print(animal.speak())\n"
      ],
      "metadata": {
        "colab": {
          "base_uri": "https://localhost:8080/"
        },
        "id": "pTj4-_vvMS9H",
        "outputId": "8e10e2dc-1444-4da5-c97d-408ff460bd0d"
      },
      "execution_count": null,
      "outputs": [
        {
          "output_type": "stream",
          "name": "stdout",
          "text": [
            "WOOOF\n",
            "None\n",
            "Meoooww\n",
            "None\n"
          ]
        }
      ]
    },
    {
      "cell_type": "code",
      "source": [
        "#Bagli liste olusturmak\n",
        "#Dugum\n",
        "class Node:\n",
        "  def __init__(self,data):\n",
        "    self.data = data\n",
        "    self.next = None\n",
        "\n",
        "\n",
        "#Bagli liste\n",
        "class LinkedList:\n",
        "  def __init__(self):\n",
        "    self.head = None\n",
        "\n",
        "  #append -- Listenin Sonuna eleman ekle\n",
        "  def append(self,data):\n",
        "    new_node = Node(data)\n",
        "    if self.head is None:\n",
        "      self.head = new_node\n",
        "      return\n",
        "\n",
        "    last = self.head\n",
        "\n",
        "\n",
        "    while last.next:\n",
        "      last = last.next\n",
        "\n",
        "    last.next = new_node\n",
        "\n",
        "  # bağlı listenin onune veri ekleme\n",
        "  def prepend(self,data):\n",
        "    new_node = Node(data)\n",
        "    new_node.next = self.head\n",
        "    self.head = new_node\n",
        "\n",
        "\n",
        "  # listeyi bastirma\n",
        "  def print_list(self):\n",
        "    current = self.head\n",
        "    while current:\n",
        "      print(current.data,end = ' --> ')\n",
        "      current = current.next\n",
        "    print(None)\n",
        "\n",
        "  # Bagli lisyeden veri silme\n",
        "  def delete_node(self,data):\n",
        "    if self.head is None:\n",
        "      return\n",
        "\n",
        "    if self.head.data == data:\n",
        "      self.head = self.head.next\n",
        "      return\n",
        "\n",
        "    current = self.head\n",
        "\n",
        "    while current.next:\n",
        "      if current.next.data == data:\n",
        "        current.next = current.next.next\n",
        "        return\n",
        "\n",
        "      current = current.next\n",
        "\n",
        "  # belirli bir veriyi bulma\n",
        "  def find(self,data):\n",
        "    current= self.head\n",
        "    while current and current.data != data:\n",
        "      current = current.next\n",
        "    return current\n",
        "\n",
        "\n",
        "  #listenin uzunlugunu bulmak\n",
        "  def length_list(self):\n",
        "    count = 0\n",
        "    current = self.head\n",
        "    while current:\n",
        "      count += 1\n",
        "      current = current.next\n",
        "    return count\n"
      ],
      "metadata": {
        "id": "9zO-9a8btpB3"
      },
      "execution_count": null,
      "outputs": []
    },
    {
      "cell_type": "markdown",
      "source": [
        "Kullanim ornegi"
      ],
      "metadata": {
        "id": "aMe01GcjCotY"
      }
    },
    {
      "cell_type": "code",
      "source": [
        "if __name__== '__main__':\n",
        "\n",
        "  llist = LinkedList()\n",
        "\n",
        "  llist.append(2)\n",
        "  llist.append(5)\n",
        "  llist.append(3)\n",
        "\n",
        "\n",
        "  print(llist.print_list())\n",
        "\n"
      ],
      "metadata": {
        "colab": {
          "base_uri": "https://localhost:8080/"
        },
        "id": "cXHah20gAQbm",
        "outputId": "7426d11b-d5f5-4997-bb68-6baa150b04e8"
      },
      "execution_count": null,
      "outputs": [
        {
          "output_type": "stream",
          "name": "stdout",
          "text": [
            "2 --> 5 --> 3 --> None\n",
            "None\n"
          ]
        }
      ]
    },
    {
      "cell_type": "code",
      "source": [
        "#rekursif fonksiyonlar\n",
        "def factorial(n):\n",
        "  if n ==0:\n",
        "    return 1\n",
        "  else:\n",
        "    return n*factorial(n-1)\n",
        "\n",
        "\n",
        "\n",
        "a=str(factorial(958))\n",
        "print(a,'\\n',len(a))"
      ],
      "metadata": {
        "colab": {
          "base_uri": "https://localhost:8080/"
        },
        "id": "pDUdf2RIA86g",
        "outputId": "32c12822-dabb-4a7b-b602-d6c65927b28c"
      },
      "execution_count": null,
      "outputs": [
        {
          "output_type": "stream",
          "name": "stdout",
          "text": [
            "963506170965083130752749020132679046843254405809438907781336703820394438604127249454109623889701106950379117503604474886157397916518990877555319520509209121458749968664439703801179380200891994781974594848464842120162691929194155219411690443497622808832224065074343657574742171109968309745891530122298521077456001852818541396538927035116654446437768269601711683438092698006116097838183844080184051899808835253707212762418877084709092558381454051293237657195015723272332788169418090603642843458715462942384291389887746069212650686145847361000757816260570324238415687242504201830656733002192809197351535615773025123920029644336075605216301185188529589726197044210424193794427914327269606126426253959019559278654312350578256542533918344828659368032459857747885757358803195190478933533720491143016398832205487951426258598476178060838549453135920358916002805158662189662206358396888501996830781292868044495825726803558164111654162823368603032864306908312077038246460400395339746890403923096116866791566513826318681668124888581328069967832692444117638658825398455875847130526421545261500075514910480924570663436596186353500172921151605797504570529159690443867760825864155108874087103521863252367289726009155036795892702445989802704316519329897128358282555192678128275816550944215957639958742205637716519906701357277278105424216667643989428440752488282204776606244853276650325094204470435372119524848250206349779056675273220215021231851255038960148989739946666877223398705050646965788795982924946695469052583129725629872149430818561099597297388140290627406805387588456449417655907400213236418616711691343828496810024682826781561821399869648185314314081920173557289620960460374589138029815784721662164757652876662401203796373083875171378720532968709694326440135226598929839359130810346860677756196192852582906041989830857152996711642152583572966411519751748129665030278747952625834384532265199894486855578644770932934721935013469505499951629467604127830436187618357280416146273262864638018543673792422585158018124274579108792130358748274247185330833071142528025006089234690481362572483207225917336528590351424426534029614145665086538119695230240536274084041727075561705990262712729114804979863573765432196647092224000000000000000000000000000000000000000000000000000000000000000000000000000000000000000000000000000000000000000000000000000000000000000000000000000000000000000000000000000000000000000000000000000000000000000000000000000000000000000000000 \n",
            " 2442\n"
          ]
        }
      ]
    },
    {
      "cell_type": "code",
      "source": [
        "def factorial(n):\n",
        "  i = 1\n",
        "  while n>1:\n",
        "    i *=n\n",
        "    n-=1\n",
        "  return i\n",
        "\n",
        "factorial(5)"
      ],
      "metadata": {
        "colab": {
          "base_uri": "https://localhost:8080/"
        },
        "id": "mssJ18UHXTTs",
        "outputId": "da3c2b80-91a5-4a11-a98b-091e5f3c29fe"
      },
      "execution_count": null,
      "outputs": [
        {
          "output_type": "execute_result",
          "data": {
            "text/plain": [
              "120"
            ]
          },
          "metadata": {},
          "execution_count": 61
        }
      ]
    },
    {
      "cell_type": "code",
      "source": [
        "#bubble sort function\n",
        "\n",
        "def bubble_sort(arr):\n",
        "  n = len(arr)\n",
        "\n",
        "  for i in range(n):\n",
        "    for j in range(0,n-i-1):\n",
        "      if arr[j]> arr[j+1]:\n",
        "        arr[j],arr[j+1] = arr[j+1],arr[j]\n",
        "\n",
        "  return arr\n",
        "\n",
        "bubble_sort([1,5,2])\n"
      ],
      "metadata": {
        "colab": {
          "base_uri": "https://localhost:8080/"
        },
        "id": "yNvm1c7kFhWi",
        "outputId": "947efb45-99d9-4375-d396-8e4305edf054"
      },
      "execution_count": null,
      "outputs": [
        {
          "output_type": "execute_result",
          "data": {
            "text/plain": [
              "[1, 2, 5]"
            ]
          },
          "metadata": {},
          "execution_count": 58
        }
      ]
    },
    {
      "cell_type": "code",
      "source": [
        "#lambda uygulama\n",
        "\n",
        "add = lambda x,y:x+y\n",
        "add(5,7)\n",
        "\n"
      ],
      "metadata": {
        "colab": {
          "base_uri": "https://localhost:8080/"
        },
        "id": "sJc2-n-7dF8y",
        "outputId": "8dd5fb66-1459-419e-807a-e5ab6c82ae6d"
      },
      "execution_count": null,
      "outputs": [
        {
          "output_type": "execute_result",
          "data": {
            "text/plain": [
              "12"
            ]
          },
          "metadata": {},
          "execution_count": 79
        }
      ]
    },
    {
      "cell_type": "code",
      "source": [
        "# list comprehension\n",
        "\n",
        "squares = [x**2 for x in range(10)]\n",
        "print(squares)\n",
        "\n",
        "square_dict={ x: x**2 for x in range(11)}\n",
        "print(square_dict)"
      ],
      "metadata": {
        "colab": {
          "base_uri": "https://localhost:8080/"
        },
        "id": "tMtvLOzWdojQ",
        "outputId": "4dd10d40-a098-41f8-e073-f367fdc67696"
      },
      "execution_count": null,
      "outputs": [
        {
          "output_type": "stream",
          "name": "stdout",
          "text": [
            "[0, 1, 4, 9, 16, 25, 36, 49, 64, 81]\n",
            "{0: 0, 1: 1, 2: 4, 3: 9, 4: 16, 5: 25, 6: 36, 7: 49, 8: 64, 9: 81, 10: 100}\n"
          ]
        }
      ]
    },
    {
      "cell_type": "code",
      "source": [
        "#python modulleri ve paket indirmek\n",
        "!pip install requests\n",
        "\n",
        "import requests\n",
        "\n",
        "response= requests.get(https://api.github.com)\n",
        "print(response.status_code)\n",
        "\n"
      ],
      "metadata": {
        "id": "cuY28LWSH8K_"
      },
      "execution_count": null,
      "outputs": []
    },
    {
      "cell_type": "code",
      "source": [
        "x = \"global\"\n",
        "\n",
        "def outer():\n",
        "    x = \"local\"\n",
        "\n",
        "    def inner():\n",
        "        nonlocal x\n",
        "        x = \"nonlocal\"\n",
        "        print(\"inner:\", x)\n",
        "\n",
        "    inner()\n",
        "    print(\"outer:\", x)\n",
        "\n",
        "outer()\n",
        "print(\"global:\", x)\n"
      ],
      "metadata": {
        "colab": {
          "base_uri": "https://localhost:8080/"
        },
        "id": "oUi2jowJRgMk",
        "outputId": "43496033-36dd-4680-e2ab-99499c850428"
      },
      "execution_count": null,
      "outputs": [
        {
          "output_type": "stream",
          "name": "stdout",
          "text": [
            "inner: nonlocal\n",
            "outer: nonlocal\n",
            "global: global\n"
          ]
        }
      ]
    },
    {
      "cell_type": "code",
      "source": [
        "# Fibonacci Serisi Gösterimi\n",
        "\n",
        "def fib(n):\n",
        "\n",
        "  a , b = 0,1\n",
        "  while a < n:\n",
        "    yield a\n",
        "    a , b = b , a+b\n",
        "    return a\n",
        "\n",
        "for i in fib(6):\n",
        "  print(i)"
      ],
      "metadata": {
        "colab": {
          "base_uri": "https://localhost:8080/"
        },
        "id": "uD_ZbICE7dCG",
        "outputId": "4898e505-1ce6-4e3e-d875-0c4852988b24"
      },
      "execution_count": null,
      "outputs": [
        {
          "output_type": "stream",
          "name": "stdout",
          "text": [
            "0\n"
          ]
        }
      ]
    },
    {
      "cell_type": "markdown",
      "source": [
        "MÜLAKAT EXERCİSES"
      ],
      "metadata": {
        "id": "Y4SDtU9fGqng"
      }
    },
    {
      "cell_type": "markdown",
      "source": [
        "-----------------------"
      ],
      "metadata": {
        "id": "i-qu-4tfGln9"
      }
    },
    {
      "cell_type": "markdown",
      "source": [
        "OOP(ORİENTATİON OBJECT PROJECT)\n",
        "- CLASS\n",
        "- OBJECT\n",
        "- İNHERİTANCE\n",
        "- POLYMORPHİSM"
      ],
      "metadata": {
        "id": "ZzetS8aeGxep"
      }
    },
    {
      "cell_type": "markdown",
      "source": [
        "object orient project is a software development paradigm and it has four basic principles\n",
        "- classes: Classes are the building blocks of objects are templates that define the attributes and methods of objects"
      ],
      "metadata": {
        "id": "V4yEjl1KV0OK"
      }
    },
    {
      "cell_type": "code",
      "source": [
        "#Let's explain with an example\n",
        " #First we will define a class\n",
        " # Let the name of our class be Car\n",
        " # Next,let's specify the characteristics of a car in our class\n",
        " #Then let's define a function inside our class that displays information"
      ],
      "metadata": {
        "id": "ZZ4D7HMtHKDp"
      },
      "execution_count": null,
      "outputs": []
    },
    {
      "cell_type": "code",
      "source": [
        "class Car:\n",
        "  def __init__(self ,make,model,year,color):\n",
        "    self.make = make\n",
        "    self.model = model\n",
        "    self.year = year\n",
        "    self.color = color\n",
        "\n",
        "\n",
        "  def display_info(self):\n",
        "    print(f'{self.make} {self.model} {self.year} {self.color}')\n",
        "\n",
        "\n",
        "\n"
      ],
      "metadata": {
        "id": "uG6rWnXpGoET"
      },
      "execution_count": null,
      "outputs": []
    },
    {
      "cell_type": "markdown",
      "source": [
        "Object : Objects are concrete(somut) instances derived(türetilmiş) from classes.\n",
        "\n",
        "- Each object is an instance of the class and has the properties(özellikler-attributes) and behaviors(davranışlar-methods) defined in the class\n"
      ],
      "metadata": {
        "id": "fwQzLDlSGgNN"
      }
    },
    {
      "cell_type": "code",
      "source": [
        "#Explain with an example\n",
        "# First , let's create a class and define it's properties\n",
        "class Car:\n",
        "  # Let's specify the features of our class as make,model,year and color\n",
        "  def __init__(self,make,model,year,color):\n",
        "    self.make = make\n",
        "    self.model = model\n",
        "    self.year = year\n",
        "    self.color = color\n",
        "#Define a fuction to show the properties\n",
        "  def display_info(self):\n",
        "    print(f\"{self.make} {self.model} {self.year} {self.color}\")\n"
      ],
      "metadata": {
        "colab": {
          "base_uri": "https://localhost:8080/"
        },
        "id": "LxD-agiVa7gO",
        "outputId": "a3a11f1d-b210-4649-eb87-6c6a7ddf0bb7"
      },
      "execution_count": null,
      "outputs": [
        {
          "output_type": "stream",
          "name": "stdout",
          "text": [
            "Mercedes Benz 2012 red\n"
          ]
        }
      ]
    },
    {
      "cell_type": "code",
      "source": [
        "# Now that the class has been created,\n",
        "# Lets define an axample car by specifying its properties in this class\n",
        "#Let's call our example car_1\n",
        "\n",
        "car_1 = Car(\"Ford\",\"Mustang\",1969,\"grey\")\n",
        "#We create our instance\n",
        "#Look at the features\n",
        "car_1.display_info()\n",
        "\n",
        "# Thanks to the Classes and OBject policies ,\n",
        "# We can generate as many instances\n",
        "#like this as we want using the Car class\n",
        "\n",
        "car_2 = Car(\"BMW\",\"X5\",2024,\"black\")\n",
        "car_3 = Car(\"Mercedes\",\"C300\",2024,\"red\")"
      ],
      "metadata": {
        "id": "0G0xpD7vJ4KZ"
      },
      "execution_count": null,
      "outputs": []
    },
    {
      "cell_type": "markdown",
      "source": [
        "3-INHERITANCE : Inheritance allows a class to inherit properties and methods from another class\n",
        "\n",
        "This increases(artırmak) code reusability(yeniden kullanılabilirlik) and makes it possible to do get more done with less code"
      ],
      "metadata": {
        "id": "yQ6xoE8wL7qx"
      }
    },
    {
      "cell_type": "code",
      "source": [
        "#Let's explain with an another example\n",
        "# Let's create a superclass for vehicles\n",
        "#             and\n",
        "# set their properties as make ,model and year\n",
        "\n",
        "class Vehicles:\n",
        "  def __init__(self,make,model,year):\n",
        "    self.make = make\n",
        "    self.model = model\n",
        "    self.year  = year\n",
        "\n",
        "    #Let's define a few functions in our class that are in every vehicles\n",
        "\n",
        "  def accelerate(self):\n",
        "    print(f\"The {self.make} {self.model} is accelerating\")\n",
        "\n",
        "  def brake(self):\n",
        "    print(f\"The {self.make} {self.model} is braking\")\n",
        "\n",
        "  def display_info(self):\n",
        "    print(f\"{self.make} {self.model} {self.year}\")"
      ],
      "metadata": {
        "id": "dA4pPeoTL7Vl"
      },
      "execution_count": null,
      "outputs": []
    },
    {
      "cell_type": "code",
      "source": [
        "#Now let's create a subclass defined as a vehicle\n",
        "# As an example , we can define car and bicycle\n",
        "\n",
        "class Car(Vehicles):\n",
        "  #Since cars and bicycles have the properties of vehicles,we define vehicles in the class parameter\n",
        "  def __init__(self,make,model,year,color,fuel_type):\n",
        "    super().__init__(make,model,year,color)\n",
        "    # in this way , we can use all the features of the vehicle class without writing any extra code\n",
        "    self.fuel_type = fuel_type\n",
        "\n",
        "  def display_info(self):\n",
        "    super().display_info()\n",
        "    print(f\"Fuel Type : { self.fuel_type}\")\n",
        "\n",
        "\n",
        "class Bicycle(Vehicles):\n",
        "  def __init__(self,make,model,year,color,gear_count):\n",
        "    super().__init__(make,model,year,color)\n",
        "    self.gear_count = gear_count\n",
        "\n",
        "  def display_info(self):\n",
        "    super().display_info()\n",
        "    pirnt(f\"Gear Count : {self.gear_count}\")\n",
        "\n",
        "\n",
        "#Summary : The Vehicles superclass contains (içermek) the common characteristics and behaviour of all vehicles\n",
        "#        : The car and bicycle classes are derived from the vehicles class and add additional(ek özellikler) of their own"
      ],
      "metadata": {
        "id": "Hw5w16gzKwZe"
      },
      "execution_count": null,
      "outputs": []
    },
    {
      "cell_type": "markdown",
      "source": [
        "4-POLYMORPHISM: Polymorphism allows different classes to implement methods with the same name in different ways"
      ],
      "metadata": {
        "id": "bmT0Dc-Aknh_"
      }
    },
    {
      "cell_type": "code",
      "source": [
        "# Let's explain with an examples\n",
        "#Let's creat a class named animal\n",
        "\n",
        "class Animal:\n",
        "  def make_sound(self):\n",
        "    pass\n",
        "\n",
        "\n",
        "#Create two subclasses named cat and dog\n",
        "\n",
        "class Dog(Animal): # derived from the Animal Class and describes its vocal behaviour(barking)\n",
        "  def make_sound(self):\n",
        "    return \"Bark\"\n",
        "\n",
        "class Cat(self): # derived from the Animal class and describes its vocal behaviour(meow)\n",
        "  def make_sound(self):\n",
        "    return \"Meow\"\n",
        "\n",
        "# The animal superclass contains(içermek) a common method(Ortak yöntem)(make_sound) for all animals\n",
        "# The dog and cat classes customise this method with their own vocal behaviour\n",
        "\n"
      ],
      "metadata": {
        "id": "BJrXdHG1Zfur"
      },
      "execution_count": null,
      "outputs": []
    },
    {
      "cell_type": "code",
      "source": [
        "# LEt's define one more function to use these classes\n",
        "\n",
        "def animal_sound(animal):\n",
        "  print(animal.make_sound())\n",
        "\n",
        "\n",
        "#Create the animal instances\n",
        "\n",
        "dog = Dog()\n",
        "cat = Cat()\n",
        "\n",
        "#Call and show animal sounds\n",
        "\n",
        "animal_sound(dog)\n",
        "animal_sound(cat)\n",
        "\n",
        "#Summary: Polimorphism the dog and cat classes implement the make_sound method of the Animal Class\n",
        "# -- with their own specific vocalisation behaviours\n",
        "# Different objects,same method: The animal_sound function can call the make_sound method of any given animal object\n",
        "# No matter what type animal object is given,the correct sounding behaviours is displayed"
      ],
      "metadata": {
        "id": "J0hVroHh24lY"
      },
      "execution_count": null,
      "outputs": []
    },
    {
      "cell_type": "markdown",
      "source": [
        "**SOLID**\n",
        "- The SOLID principles encompass(*kapsamak*) five important principles in software design that encourage(*teşvik eden*) writing code that is flexible,maintainable and readable.\n",
        "- These principles make software easier to maintain and minimize problems encountered(*karşılaşılan*) during the software development process"
      ],
      "metadata": {
        "id": "nOy8CXvLTDIf"
      }
    },
    {
      "cell_type": "code",
      "source": [],
      "metadata": {
        "id": "O__zvi3uTBQI"
      },
      "execution_count": null,
      "outputs": []
    },
    {
      "cell_type": "markdown",
      "source": [
        "# Python Problems"
      ],
      "metadata": {
        "id": "LGXhhPOJmQkM"
      }
    },
    {
      "cell_type": "markdown",
      "source": [
        "**Problem_1 : FizzBuzz**\n",
        "- Write a program that prints the numbers from 1 to 50.\n",
        "- For multiples of three,print \"Fizz\" instead of the number\n",
        "- For the multiples of five,print \"Buzz\".\n",
        "- For numbers are multiples of both three and five,print \"FizzBuzz\""
      ],
      "metadata": {
        "id": "NWzfY2X3miNu"
      }
    },
    {
      "cell_type": "code",
      "source": [
        "# First of all,we need to create a for loop to navigate throught the numbers form 1 to 50\n",
        "for number in range(1,51):\n",
        "# Then let's create control blocks with if else.\n",
        "# Let's print FizzBuzz for numbers divided by both 3 and 5 without remainder\n",
        "  if number % 3 == 0 and number % 5 == 0:\n",
        "    print(\"FizzBuzz\")\n",
        "# Print Fizz for divisible by three without remainder\n",
        "  elif number % 3 == 0:\n",
        "    print(\"Fizz\")\n",
        "# Print Buzz for divisible by  five without remainder\n",
        "  elif number % 5 == 0:\n",
        "    print(\"Buzz\")\n",
        "# And print numbers other than these\n",
        "  else:\n",
        "    print(number)"
      ],
      "metadata": {
        "id": "3aHVueLvmXPg"
      },
      "execution_count": null,
      "outputs": []
    },
    {
      "cell_type": "markdown",
      "source": [
        "**Problem_2: Palindrome Checker**\n",
        "- Write a function \"is_palindrome\" that takes a string as input and returns \"True\" if the string a palindrome(reads the same backwards  to forward) and \"False\" otherwise"
      ],
      "metadata": {
        "id": "FEVmbU0nvjdq"
      }
    },
    {
      "cell_type": "code",
      "source": [
        "# create a new function called is_palindrome\n",
        "def is_palindrome(s):\n",
        "  # Control Block: If the entered string is equal to its inverse\n",
        "  if s == s[::-1]:\n",
        "    return True\n",
        "  else:\n",
        "    return False\n",
        "\n",
        "is_palindrome(\"kayak\")"
      ],
      "metadata": {
        "colab": {
          "base_uri": "https://localhost:8080/"
        },
        "id": "awKXEMCMviWI",
        "outputId": "24f35fc9-20af-4298-d428-abc344771d66"
      },
      "execution_count": null,
      "outputs": [
        {
          "output_type": "execute_result",
          "data": {
            "text/plain": [
              "True"
            ]
          },
          "metadata": {},
          "execution_count": 7
        }
      ]
    },
    {
      "cell_type": "code",
      "source": [
        "# More Clearly Code\n",
        "def is_palindrome(s):\n",
        "  return s ==s[::-1]\n",
        "\n",
        "print(is_palindrome(\"kayak\"))"
      ],
      "metadata": {
        "colab": {
          "base_uri": "https://localhost:8080/"
        },
        "id": "VP-Fzu3cxz_m",
        "outputId": "2c9b66a9-25a3-4e65-9eba-863cb4f79ffc"
      },
      "execution_count": null,
      "outputs": [
        {
          "output_type": "stream",
          "name": "stdout",
          "text": [
            "True\n"
          ]
        }
      ]
    },
    {
      "cell_type": "markdown",
      "source": [
        "**Problem_3:Fibonacci Sequence**\n",
        "- Write a function \"fibonacci\" that takes an integer \"n\" and returns the first \"n\" numbers in the Fibonacci sequence"
      ],
      "metadata": {
        "id": "g_CyB-2tyvhA"
      }
    },
    {
      "cell_type": "code",
      "source": [
        "# Create a function called fibonacci\n",
        "def fibonacci(n):  # n is integer\n",
        "\n",
        "  # initialize variables\n",
        "  a , b = 0,1\n",
        "\n",
        "# As long as parameter a n is greater than variable n\n",
        "  for _ in range(n):\n",
        "\n",
        "    print(a , end = \"-->\") # Inial value always 0\n",
        "    a ,b = b , a+b # Update values\n",
        "\n",
        "fibonacci(7)\n"
      ],
      "metadata": {
        "colab": {
          "base_uri": "https://localhost:8080/"
        },
        "id": "sIFt3acByu6B",
        "outputId": "0def5965-2e0d-4bb9-f5a7-69ef341339b5"
      },
      "execution_count": null,
      "outputs": [
        {
          "output_type": "stream",
          "name": "stdout",
          "text": [
            "0-->1-->1-->2-->3-->5-->8-->"
          ]
        }
      ]
    },
    {
      "cell_type": "markdown",
      "source": [
        "**PROBLEM_4 : LIST COMPREHENSION**\n",
        "- Given a list of numbers,use list comprehension to create  a new list that contains the squares of all the numbers in the original list\n",
        "\n"
      ],
      "metadata": {
        "id": "b3KxjyE82zAq"
      }
    },
    {
      "cell_type": "code",
      "source": [
        "# First let's define a list called \"numbers\"\n",
        "\n",
        "numbers =[1,2,3,4,5]\n",
        "\n",
        "squared_numbers = [x**2 for x in numbers]\n",
        "print(squared_numbers)\n",
        "\n"
      ],
      "metadata": {
        "colab": {
          "base_uri": "https://localhost:8080/"
        },
        "id": "1gfOjsUf2uiP",
        "outputId": "dd02ea03-78f5-49bb-e935-5c18de053807"
      },
      "execution_count": null,
      "outputs": [
        {
          "output_type": "stream",
          "name": "stdout",
          "text": [
            "[1, 4, 9, 16, 25]\n"
          ]
        }
      ]
    },
    {
      "cell_type": "markdown",
      "source": [
        "**PROBLEM_5:DICTIONARY COUNT**\n",
        "\n",
        "- Write a function \"count_words\" that takes a string as input and returns a dictionary where the keys are the words,and the values are the counts of each word in the string.\n",
        "- Ignore punctuation and assume all words seperated by spaces"
      ],
      "metadata": {
        "id": "QOij-UH84GmN"
      }
    },
    {
      "cell_type": "code",
      "source": [
        "def count_words(s):\n",
        "\n",
        "  words = {word:s.split().count(word) for word in set(s.split())}\n",
        "  return words\n",
        "\n",
        "count_words(\"Hello World and Hello Python.Let's Predict The Future\")\n"
      ],
      "metadata": {
        "colab": {
          "base_uri": "https://localhost:8080/"
        },
        "id": "k-d3HDMQ5BMj",
        "outputId": "48a2b54c-d293-45c3-a99e-ac00a8307a00"
      },
      "execution_count": null,
      "outputs": [
        {
          "output_type": "execute_result",
          "data": {
            "text/plain": [
              "{'Hello': 2,\n",
              " 'The': 1,\n",
              " 'World': 1,\n",
              " 'Future': 1,\n",
              " \"Python.Let's\": 1,\n",
              " 'and': 1,\n",
              " 'Predict': 1}"
            ]
          },
          "metadata": {},
          "execution_count": 17
        }
      ]
    },
    {
      "cell_type": "code",
      "source": [
        "# This code converts text to lowercase amd removes punctuation(noktalama işareti)\n",
        "\n",
        "import string\n",
        "def count_words(s):\n",
        "\n",
        "  # Remove punctuation and convert to lower case\n",
        "  s = s.translate(str.maketrans(\"\",\"\",string.punctuation)).lower()\n",
        "  # Split the string into a word\n",
        "  words = s.split()\n",
        "\n",
        "  word_count = {word:words.count(word) for word in set(words)}\n",
        "  return word_count\n",
        "\n",
        "count_words(\"Hello, Hello Python. Have a nice day. Are you ready for the results\")\n"
      ],
      "metadata": {
        "colab": {
          "base_uri": "https://localhost:8080/"
        },
        "id": "Jhjz36AIDCgv",
        "outputId": "f583f1b8-edcd-48c5-9821-ee854df4aa03"
      },
      "execution_count": null,
      "outputs": [
        {
          "output_type": "execute_result",
          "data": {
            "text/plain": [
              "{'have': 1,\n",
              " 'python': 1,\n",
              " 'results': 1,\n",
              " 'ready': 1,\n",
              " 'hello': 2,\n",
              " 'are': 1,\n",
              " 'a': 1,\n",
              " 'nice': 1,\n",
              " 'the': 1,\n",
              " 'day': 1,\n",
              " 'for': 1,\n",
              " 'you': 1}"
            ]
          },
          "metadata": {},
          "execution_count": 21
        }
      ]
    },
    {
      "cell_type": "markdown",
      "source": [
        "**PROBLEM_6:ANAGRAM CHECKER**\n",
        "- Write a function \"is_anagram\" that takes two strings and returns \"True\" if they are anagrams of each other and \"False\" otherwise.\n",
        "- An anagram is a word or phrase formed by rearranging the letters of another"
      ],
      "metadata": {
        "id": "JbBejVyglqVM"
      }
    },
    {
      "cell_type": "code",
      "source": [
        "def is_anagram(s1,s2):\n",
        "  return sorted(s1) == sorted(s2)\n",
        "\n",
        "is_anagram(\"aksaray\",\"sakarya\")"
      ],
      "metadata": {
        "colab": {
          "base_uri": "https://localhost:8080/"
        },
        "id": "5GO4uthWmicj",
        "outputId": "304def09-2361-45bd-b1e6-497c8c50c8b0"
      },
      "execution_count": null,
      "outputs": [
        {
          "output_type": "execute_result",
          "data": {
            "text/plain": [
              "False"
            ]
          },
          "metadata": {},
          "execution_count": 2
        }
      ]
    },
    {
      "cell_type": "markdown",
      "source": [
        "**PROBLEM_7:PRIME NUMBER CHECKER**\n",
        "- Write a function \"is_prime\" that takes a integer and returns \"True\" if the number is prime and \"False\" otherwise.\n",
        "- A prime number is a number greater than 1 that has no divisors other than 1 and itself"
      ],
      "metadata": {
        "id": "fG_wXeGhnoxB"
      }
    },
    {
      "cell_type": "code",
      "source": [
        "def is_prime(n):\n",
        "  if n <= 1:\n",
        "    return False\n",
        "  for i in range(2,n):\n",
        "    if n % i == 0:\n",
        "      return False\n",
        "  else :\n",
        "    return True\n",
        "\n",
        "print(is_prime(5))\n",
        "print(is_prime(12))"
      ],
      "metadata": {
        "id": "oZb1pQOEnnQd",
        "colab": {
          "base_uri": "https://localhost:8080/"
        },
        "outputId": "ea167429-60cf-400e-ac6b-8e82b5a93a6f"
      },
      "execution_count": null,
      "outputs": [
        {
          "output_type": "stream",
          "name": "stdout",
          "text": [
            "True\n",
            "False\n"
          ]
        }
      ]
    },
    {
      "cell_type": "code",
      "source": [
        "# Alternative efficient solution\n",
        "\n",
        "def is_prime(n):\n",
        "  if n <= 1:\n",
        "    return False\n",
        "  for i in range(2,int(n**0.5)+1): # square root n + 1\n",
        "    if n % i == 0:\n",
        "      return False\n",
        "  else:\n",
        "    return True\n",
        "\n",
        "is_prime(123657)"
      ],
      "metadata": {
        "colab": {
          "base_uri": "https://localhost:8080/"
        },
        "id": "b9sVjQzkqeCe",
        "outputId": "46a97c56-0dea-43f4-be6e-de4525c3286c"
      },
      "execution_count": null,
      "outputs": [
        {
          "output_type": "execute_result",
          "data": {
            "text/plain": [
              "False"
            ]
          },
          "metadata": {},
          "execution_count": 19
        }
      ]
    },
    {
      "cell_type": "markdown",
      "source": [
        "**PROBLEM_8:REMOVE DUPLİCATES FROM LIST**\n",
        "- Write a function \"remove_duplicates\" that tales a list and returns a new list with duplicates removed\n"
      ],
      "metadata": {
        "id": "dLIX3_N8rS1K"
      }
    },
    {
      "cell_type": "code",
      "source": [
        "def remove_duplicates(lst):\n",
        "  removed_list = []\n",
        "  for i in lst:\n",
        "    if i not in removed_list:\n",
        "      removed_list.append(i)\n",
        "  return removed_list\n",
        "\n",
        "remove_duplicates([1,1,2,3])"
      ],
      "metadata": {
        "colab": {
          "base_uri": "https://localhost:8080/"
        },
        "id": "y_VgTZwetY3s",
        "outputId": "52e6ca36-4666-4129-8d1e-b290d17d6562"
      },
      "execution_count": null,
      "outputs": [
        {
          "output_type": "execute_result",
          "data": {
            "text/plain": [
              "[1, 2, 3]"
            ]
          },
          "metadata": {},
          "execution_count": 26
        }
      ]
    },
    {
      "cell_type": "code",
      "source": [
        "# STANDART SOLUTİON\n",
        "def remove_duplicates(lst):\n",
        "  return list(set(lst))\n",
        "\n",
        "remove_duplicates([2,2,5,5,4,4,4,3])"
      ],
      "metadata": {
        "colab": {
          "base_uri": "https://localhost:8080/"
        },
        "id": "ltY1HmsPtwbh",
        "outputId": "69546766-0a88-4996-fe1e-1d4947ee72f0"
      },
      "execution_count": null,
      "outputs": [
        {
          "output_type": "execute_result",
          "data": {
            "text/plain": [
              "[2, 3, 4, 5]"
            ]
          },
          "metadata": {},
          "execution_count": 30
        }
      ]
    },
    {
      "cell_type": "code",
      "source": [
        "#The solution if we want to keep the original order\n",
        "\n",
        "def remove_duplicates(lst):\n",
        "  seen = set()\n",
        "  removed_list = []\n",
        "\n",
        "  for i in lst:\n",
        "    if i not in seen:\n",
        "      seen.add(i)\n",
        "      removed_list.append(i)\n",
        "\n",
        "  return removed_list\n",
        "\n",
        "remove_duplicates([2,2,5,5,4,4,4,3])"
      ],
      "metadata": {
        "colab": {
          "base_uri": "https://localhost:8080/"
        },
        "id": "ptHUdjc0uFXN",
        "outputId": "4cd4a860-9650-490f-b95f-5f073a839b0d"
      },
      "execution_count": null,
      "outputs": [
        {
          "output_type": "execute_result",
          "data": {
            "text/plain": [
              "[2, 5, 4, 3]"
            ]
          },
          "metadata": {},
          "execution_count": 29
        }
      ]
    },
    {
      "cell_type": "markdown",
      "source": [
        "**PROBLEM_9:FIND THE MISSING NUMBER**\n",
        "- Given a list of numbers form 1 to n with one number missing,write a function \"find_missing_number\" that finds and returns the missing number"
      ],
      "metadata": {
        "id": "YVd54g6gvA7V"
      }
    },
    {
      "cell_type": "code",
      "source": [
        "# first of all let's create a function call find_missing_number\n",
        "def find_missing_number(lst,n):  #Given paremeter name is lst and n\n",
        "   # we need to create a complete list of numbers from 1 to n to check\n",
        "   missing_values = []\n",
        "   complete_list = list(range(1,n+1))\n",
        "   for i in complete_list:\n",
        "    if i not in lst:\n",
        "      missing_values.append(i)\n",
        "   return missing_values\n",
        "\n",
        "find_missing_number([1,3,4],10)"
      ],
      "metadata": {
        "colab": {
          "base_uri": "https://localhost:8080/"
        },
        "id": "xUcgz4_cvWaw",
        "outputId": "83bafbaf-6316-467a-ff63-fea159380ac6"
      },
      "execution_count": null,
      "outputs": [
        {
          "output_type": "execute_result",
          "data": {
            "text/plain": [
              "[2, 5, 6, 7, 8, 9, 10]"
            ]
          },
          "metadata": {},
          "execution_count": 11
        }
      ]
    },
    {
      "cell_type": "code",
      "source": [
        "#alternative solution\n",
        "def find_missing_number(lst,n):\n",
        "  complete_set = set(range(1,n+1))\n",
        "  actual_set = set(lst)\n",
        "  missing_numbers = complete_set - actual_set\n",
        "  return list(missing_numbers)\n",
        "\n",
        "find_missing_number([1,3,4],10)"
      ],
      "metadata": {
        "colab": {
          "base_uri": "https://localhost:8080/"
        },
        "id": "R_xfX7bpC2xF",
        "outputId": "7b8a066c-de1b-44e3-a7a5-e50c8db66e3b"
      },
      "execution_count": null,
      "outputs": [
        {
          "output_type": "execute_result",
          "data": {
            "text/plain": [
              "[2, 5, 6, 7, 8, 9, 10]"
            ]
          },
          "metadata": {},
          "execution_count": 10
        }
      ]
    },
    {
      "cell_type": "code",
      "source": [
        "# if we want to find a single missing number\n",
        "#throught total\n",
        "def find_missing_number(lst,n):\n",
        "  complete_sum = n*(n +1) // 2\n",
        "  actual_sum = sum(lst)\n",
        "  missing_number = complete_sum - actual_sum\n",
        "  return missing_number\n",
        "\n",
        "find_missing_number([1,3,4],4)\n",
        "\n"
      ],
      "metadata": {
        "colab": {
          "base_uri": "https://localhost:8080/"
        },
        "id": "HjjwM3r5xbkH",
        "outputId": "783f9886-3208-4781-b5a0-8e0bc1ee942c"
      },
      "execution_count": null,
      "outputs": [
        {
          "output_type": "execute_result",
          "data": {
            "text/plain": [
              "2"
            ]
          },
          "metadata": {},
          "execution_count": 13
        }
      ]
    },
    {
      "cell_type": "markdown",
      "source": [
        "**PROBLEM_10:SUM OF DİGİTS**\n",
        "- Write a function \"sum_of_digits\" that taken an integer and returns the sum of its digits"
      ],
      "metadata": {
        "id": "dRewV4HsEhTA"
      }
    },
    {
      "cell_type": "code",
      "source": [
        "#Let's create a function called sum_of_digits\n",
        "def sum_of_digits(n):\n",
        "  #We need to convert the given number to a string to able to iterable in it\n",
        "  return sum(int(digit) for digit in str(n))\n",
        "\n",
        "sum_of_digits(123)"
      ],
      "metadata": {
        "colab": {
          "base_uri": "https://localhost:8080/"
        },
        "id": "SBXNX0NiEyBZ",
        "outputId": "671d6ab2-1464-4cb9-d6cc-04080395c742"
      },
      "execution_count": null,
      "outputs": [
        {
          "output_type": "execute_result",
          "data": {
            "text/plain": [
              "6"
            ]
          },
          "metadata": {},
          "execution_count": 21
        }
      ]
    },
    {
      "cell_type": "markdown",
      "source": [
        "**PROBLEM_11: ARMSTRONG SAYISI**\n",
        "- Write a function to check if a number is an Armstrong number.\n",
        "- An Armstrong number is a number that is equal to the sum of its digits raised to power of the number of digits.\n",
        "- For example,153 is an Armstrong number because 1^3 + 5^3 + 3^3 = 153\n"
      ],
      "metadata": {
        "id": "z90CzdwBHMgh"
      }
    },
    {
      "cell_type": "code",
      "source": [
        "#Let's create a function called is_armstrong\n",
        "def is_armstrong(number): #Given parameter name is number\n",
        "# 1 - To find the exponent(üs) of given number,we determine how many digits it has\n",
        "# 2 - We convert the given number to a string.This allows us both to find the given number of digits and to perform operations with the digits\n",
        "  str_number = str(number)\n",
        "  expnt_number = len(str_number)\n",
        "  list_numbers = []\n",
        "  for i in str_number:\n",
        "    list_numbers.append(int(i)**expnt_number)\n",
        "  sum_list = sum(list_numbers)\n",
        "  if sum_list == number:\n",
        "    return True\n",
        "  else:\n",
        "    return False\n",
        "is_armstrong(1634)\n"
      ],
      "metadata": {
        "colab": {
          "base_uri": "https://localhost:8080/"
        },
        "collapsed": true,
        "id": "YgXDzdWEq8CI",
        "outputId": "59535935-2a49-44b8-b4e5-fc5ad4516b4f"
      },
      "execution_count": null,
      "outputs": [
        {
          "output_type": "execute_result",
          "data": {
            "text/plain": [
              "True"
            ]
          },
          "metadata": {},
          "execution_count": 10
        }
      ]
    },
    {
      "cell_type": "code",
      "source": [
        "# Alternative Solution\n",
        "def is_armstrong(number):\n",
        "  #Convert the number to a string to iterate over its digit\n",
        "  str_number = str(number)\n",
        "  #The exponent is the number of digits\n",
        "  exponent_number = len(str_number)\n",
        "  # List to hold the digits raised to the power of the exponent(üssün üssünü tutacak)\n",
        "  list_number = []\n",
        "\n",
        "  # Raise each digits to the power of the exponent and add to the list\n",
        "  for i in str_number:\n",
        "    list_number.append(int(i)**exponent_number)\n",
        "\n",
        "  # Sum The List\n",
        "  sum_list = sum(list_number)\n",
        "\n",
        "  # Check if the sum is equal to the original number\n",
        "  return sum_list == number\n",
        "\n",
        "print(is_armstrong(153))\n",
        "print(is_armstrong(123))"
      ],
      "metadata": {
        "colab": {
          "base_uri": "https://localhost:8080/"
        },
        "id": "g_aQ5UhTxaSJ",
        "outputId": "16204938-5371-470e-df7b-d97656740cb6"
      },
      "execution_count": null,
      "outputs": [
        {
          "output_type": "stream",
          "name": "stdout",
          "text": [
            "True\n",
            "False\n"
          ]
        }
      ]
    },
    {
      "cell_type": "code",
      "source": [
        "# More efficient Version\n",
        "# Create a function called is_armstrong\n",
        "def is_armstrong(number):\n",
        "  # Convert to number to a string\n",
        "  str_number = str(number)\n",
        "  # The exponent the number of digits\n",
        "  exponent_number = len(str_number)\n",
        "  # We use a generator expression\n",
        "  sum_of_powers = sum(int(digit)**exponent_number for digit in str_number)\n",
        "  # Check if the sum is equal to the orginal number\n",
        "  return sum_of_powers == number\n",
        "\n",
        "# Note: This reduces memory usage since we no longer need to store intermediate resuls in a list.(Ara sonuçları bir listede saklamadan uygulandı)\n",
        "#The function remains easy to read and understand while being more efficient\n",
        "print(is_armstrong(153))\n",
        "print(is_armstrong(123))"
      ],
      "metadata": {
        "colab": {
          "base_uri": "https://localhost:8080/"
        },
        "id": "xLVLUPTayxp4",
        "outputId": "eefa2011-a3cb-4eff-9450-dd1c9846bbc7"
      },
      "execution_count": null,
      "outputs": [
        {
          "output_type": "stream",
          "name": "stdout",
          "text": [
            "True\n",
            "False\n"
          ]
        }
      ]
    },
    {
      "cell_type": "markdown",
      "source": [
        "**PROBLEM_12: GREATEST COMMON DIVISOR(GCD)**\n",
        "- Write a function to find the greatest common divisor (GCD) of two numbers"
      ],
      "metadata": {
        "id": "9hReqpTU2kAO"
      }
    },
    {
      "cell_type": "code",
      "source": [
        "# Create a function called \"gcd\"\n",
        "\n",
        "def gcd(a,b):\n",
        "  # Create empty set variables\n",
        "  divisors_a = set()\n",
        "  divisors_b = set()\n",
        "\n",
        "  for i in range(1,a+1):\n",
        "    if a % i ==0:\n",
        "      divisors_a.add(i)\n",
        "\n",
        "  for j in range(1,b+1):\n",
        "    if b % j == 0:\n",
        "      divisors_b.add(j)\n",
        "  return max(divisors_a&divisors_b)\n",
        "\n",
        "gcd(36,81)\n"
      ],
      "metadata": {
        "colab": {
          "base_uri": "https://localhost:8080/"
        },
        "id": "XTKzNqdFux0S",
        "outputId": "dcb1ca04-3cde-4b96-e312-43da35cacb0d"
      },
      "execution_count": null,
      "outputs": [
        {
          "output_type": "execute_result",
          "data": {
            "text/plain": [
              "9"
            ]
          },
          "metadata": {},
          "execution_count": 22
        }
      ]
    },
    {
      "cell_type": "code",
      "source": [
        "#Alternative solution with Euclidean Algorithm\n",
        "\n",
        "# Create a function called gcd\n",
        "def gcd(a,b):\n",
        "  # The function uses a \"while\" loop that continues until \"b\" becomes zero\n",
        "  while b :\n",
        "    #  In each iteration,\"a\" is updated to the value of \"b\" and \"b\" is updated to the remainder(kalan) of \"a\" divided by \"b\"\n",
        "    a , b = b , a % b\n",
        "    # When \"b\" becomes zero \"a\" holds the GCD of the original \"a\" and \"b\"\n",
        "  return a\n",
        "\n",
        "print(gcd(81,36))\n",
        "\n",
        "#Note : This method is much more efficient than finding all divisors because\n",
        "# it reduces(azaltmak) the problem size in each step,making it run in algorithmic time relative to the smaller of the two numbers"
      ],
      "metadata": {
        "id": "R402RieMHKpT",
        "colab": {
          "base_uri": "https://localhost:8080/"
        },
        "outputId": "e079d7bc-1d80-4f3e-b097-d07e873d3b6b"
      },
      "execution_count": null,
      "outputs": [
        {
          "output_type": "stream",
          "name": "stdout",
          "text": [
            "9\n"
          ]
        }
      ]
    },
    {
      "cell_type": "markdown",
      "source": [
        "**PROBLEM_13:FILTER EVEN NUMBERS**\n",
        "- Write a function that returns a new list containing only the even numbers from the given list\n"
      ],
      "metadata": {
        "id": "cC0JjNRU9aBI"
      }
    },
    {
      "cell_type": "code",
      "source": [
        "# Create a function called filter_even_numbers\n",
        "def filter_even_numbers(lst):\n",
        "  even_numbers = []\n",
        "  for i in lst:\n",
        "    if i % 2 ==0:\n",
        "      even_numbers.append(i)\n",
        "  return even_numbers\n",
        "\n",
        "filter_even_numbers([1,2,3,4,5,6,7,8])"
      ],
      "metadata": {
        "colab": {
          "base_uri": "https://localhost:8080/"
        },
        "id": "28QpmzA39Zf6",
        "outputId": "f3be08c4-acfe-4af8-abef-d462c5a47166"
      },
      "execution_count": null,
      "outputs": [
        {
          "output_type": "execute_result",
          "data": {
            "text/plain": [
              "[2, 4, 6, 8]"
            ]
          },
          "metadata": {},
          "execution_count": 5
        }
      ]
    },
    {
      "cell_type": "code",
      "source": [
        "# ALternative more efficient Version with using list comprehension\n",
        "\n",
        "def filter_even_numbers(lst):\n",
        "  return [i for i in lst if i % 2 == 0]\n",
        "\n",
        "print(filter_even_numbers([2,4,5,8,12]))\n",
        "print(filter_even_numbers([13,17,23]))"
      ],
      "metadata": {
        "colab": {
          "base_uri": "https://localhost:8080/"
        },
        "id": "zB0O6T8M_TgL",
        "outputId": "ac46915f-7176-457c-b76a-ba5545cdb1f4"
      },
      "execution_count": null,
      "outputs": [
        {
          "output_type": "stream",
          "name": "stdout",
          "text": [
            "[2, 4, 8, 12]\n",
            "[]\n"
          ]
        }
      ]
    },
    {
      "cell_type": "markdown",
      "source": [
        "**PROBLEM_14: BINARY SEARCH**\n",
        "- Write a function to perform a binary search on a sorted list.\n",
        "- The function should return the index of the target element if found,or -1 if not found.\n",
        "\n",
        "- Binary Search : Bİnary search is an efficient algorithm for finding an item from a sorted list of items.\n",
        "- It works by repeatedly dividing the search interval in half.\n",
        "- If the value of the search key is less than the item in the middle of the interval,the search continues in the lower half,or if the value is greater,in the upper half.\n",
        "- This process repeats until the value is found or the interval is empty"
      ],
      "metadata": {
        "id": "ZCtIvvOq_05g"
      }
    },
    {
      "cell_type": "code",
      "source": [
        "\"\"\"\n",
        "Steps of Binary Search\n",
        "\n",
        "Step_1:\n",
        "- Set \"low \" to the first index of the list\n",
        "- Set \"high\" to the last index of the list\n",
        "\n",
        "Step_2:\n",
        "- Calculate the \"mid\" index\n",
        "- Compare the target value with the value at the \"mid\"\n",
        "- If they are equal , return the \"mid\" index\n",
        "- If the target value is less than the \"mid\" value,set\"high\" to \"mid-1\"\n",
        "- If the target value is greater than the \"mid\" value,set \"low\" to \"mid +1\"\n",
        "\n",
        "Step_3:\n",
        "Return -1 or indicate the value is not in the list\n",
        "\"\"\""
      ],
      "metadata": {
        "id": "92JhNFxB5YDL"
      },
      "execution_count": null,
      "outputs": []
    },
    {
      "cell_type": "code",
      "source": [
        "def binary_search(lst,target):\n",
        "  low = 0\n",
        "  high = len(lst)-1\n",
        "\n",
        "  while low <= high:\n",
        "    mid = (low + high) //2\n",
        "\n",
        "    if lst[mid] == target:\n",
        "      return mid\n",
        "    elif lst[mid] < target:\n",
        "      low = mid +1\n",
        "    else:\n",
        "      high = mid - 1\n",
        "\n",
        "  return -1\n",
        "\n",
        "binary_search([1,3,5,7,9,13,17,21],13)"
      ],
      "metadata": {
        "id": "1aBaV6I2X8k7",
        "colab": {
          "base_uri": "https://localhost:8080/"
        },
        "outputId": "fd87598e-6edc-4a77-f174-98a0b181bc3b"
      },
      "execution_count": null,
      "outputs": [
        {
          "output_type": "execute_result",
          "data": {
            "text/plain": [
              "5"
            ]
          },
          "metadata": {},
          "execution_count": 1
        }
      ]
    },
    {
      "cell_type": "markdown",
      "source": [
        "**PROBLEM_15:FIRST DUPLICATE ELEMENT IN A LIST**\n",
        "- Write a function to find the first duplicate element in a list.\n",
        "- If no elements are duplicated,return \"None\""
      ],
      "metadata": {
        "id": "BRLNCkfG6Kde"
      }
    },
    {
      "cell_type": "code",
      "source": [
        "# Create a function called name is def find_first_duplicate\n",
        "\n",
        "def find_first_duplicate(lst): # given parametre name is list\n",
        "  # Start a loop with the length of the given list\n",
        "  for i in range(len(lst)):\n",
        "    # Create an inner loop.This inner loop will always start from the next step of the abovee loop\n",
        "    for j in range(i+1,len(lst)):\n",
        "      # It will check whether the outer loop and the inner loop are the same\n",
        "      if lst[i]== lst[j]:\n",
        "\n",
        "        return lst[i]\n",
        "  return None\n",
        "\n",
        "find_first_duplicate([2,3,5,4,3])"
      ],
      "metadata": {
        "colab": {
          "base_uri": "https://localhost:8080/"
        },
        "id": "Ib4V3een6jKs",
        "outputId": "382e2c3e-6ae0-40ce-a8cd-525660adbbae"
      },
      "execution_count": null,
      "outputs": [
        {
          "output_type": "execute_result",
          "data": {
            "text/plain": [
              "3"
            ]
          },
          "metadata": {},
          "execution_count": 10
        }
      ]
    },
    {
      "cell_type": "code",
      "source": [
        "#Alternative more efficient solution\n",
        "def find_first_duplicate(lst):\n",
        "  seen = set()\n",
        "  for i in lst:\n",
        "    if i in seen:\n",
        "      return i\n",
        "    seen.add(i)\n",
        "\n",
        "  return None\n",
        "\n",
        "find_first_duplicate([2,3,5,4,3])"
      ],
      "metadata": {
        "colab": {
          "base_uri": "https://localhost:8080/"
        },
        "id": "6oMlKqrY_L6S",
        "outputId": "17c80f81-4e93-4c8b-a807-4167c8c5fd87"
      },
      "execution_count": null,
      "outputs": [
        {
          "output_type": "execute_result",
          "data": {
            "text/plain": [
              "3"
            ]
          },
          "metadata": {},
          "execution_count": 11
        }
      ]
    }
  ]
}