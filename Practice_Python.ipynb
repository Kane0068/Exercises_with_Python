{
  "nbformat": 4,
  "nbformat_minor": 0,
  "metadata": {
    "colab": {
      "provenance": [],
      "collapsed_sections": [
        "L3a0YCaAb6sn",
        "YFG28ibFcLVQ",
        "3bKxY-tIdE4r",
        "ahzNbz_akvra",
        "xXS7BnrKlc59",
        "hbTpYTxmzeLp",
        "D6e4P6inU9OF",
        "a-IH1kg_PxNH",
        "jehhHO5WQk_i",
        "jzoVwNsBXQ8Q",
        "q2Ahnnw_Fgz9",
        "yy7Wd8uwGsWb",
        "aw0ucwxUI3Xk",
        "wDNGsp-sJJtc",
        "p5ZdUVYxsQVS",
        "hbXx51mlvNyX",
        "vA_n7s1WwFWG",
        "Qotyk8D2wNTY",
        "Zy6XgYoi1Mg0",
        "IxCrEOf54uY-",
        "aCPrU7eoCV4j",
        "2wi3PYXvFSho",
        "cFBw2gSmGxRd",
        "VkkWMiXAHuCF",
        "OP-riIqIQ64S",
        "_S36K5ZyR9rQ",
        "z-wvowk7TXga",
        "CJIW2zqlUzbp",
        "0nuAyiz9UzyF",
        "9oh7EXkpYOa1",
        "v7NB1IlPZmdE",
        "VlEmGze9fbn6"
      ],
      "authorship_tag": "ABX9TyNu0HDICwbz2ga6RBrK48B7"
    },
    "kernelspec": {
      "name": "python3",
      "display_name": "Python 3"
    },
    "language_info": {
      "name": "python"
    }
  },
  "cells": [
    {
      "cell_type": "markdown",
      "source": [
        "# Temel Python Soruları\n",
        "1. Python Nedir? Python'un Avantajları Nelerdir?\n",
        "2. Python'da Değişkenler ve Veri Tipleri Nelerdir?\n",
        "3. Python'da List, Tuple, Set ve Dictionary Arasındaki Farklar Nelerdir?\n",
        "4. Python'da Mutable ve Immutable Veri Tipleri Nelerdir?\n",
        "5. Python'da Fonksiyonlar Nasıl Tanımlanır ve Kullanılır?\n",
        "# İleri Düzey Python Soruları\n",
        "6. Python'da Decorator Nedir ve Nasıl Kullanılır?\n",
        "7. Python'da Generator Nedir? Yield Anahtar Kelimesi Nasıl Çalışır?\n",
        "8. Python'da Exception Handling (Hata Yönetimi) Nasıl Yapılır?\n",
        "9. Python'da Class ve Object Nedir? OOP Kavramları Nelerdir?\n",
        "10. Python'da Inheritance (Kalıtım) ve Polymorphism (Çok Biçimlilik) Nedir?\n",
        "# Veri Yapıları ve Algoritmalar\n",
        "11. Linked List, Stack, Queue Gibi Veri Yapıları Nasıl Uygulanır?\n",
        "12. Sorting ve Searching Algoritmaları (örneğin, Bubble Sort, Quick Sort, Binary Search) Nasıl Çalışır?\n",
        "13. Rekursif Algoritmalar Nasıl Yazılır?\n",
        "# Python'a Özgü Konular\n",
        "14. Python'da Lambda Fonksiyonları ve Anonim Fonksiyonlar Nelerdir?\n",
        "15. List Comprehensions ve Dictionary Comprehensions Nasıl Kullanılır?\n",
        "16. Python Modülleri ve Paket Yönetimi (pip) Nasıl Yapılır?\n",
        "17. Python'da Multithreading ve Multiprocessing Arasındaki Farklar Nelerdir?\n",
        "18. Python'da Global, Local ve Nonlocal Değişkenler Nelerdir?\n",
        "# Uygulamalı Sorular\n",
        "19. Belirli Bir Problemi Çözmek İçin Algoritma Yazma: Örneğin, Fibonacci Dizisi, Factorial Hesaplama.\n",
        "20. Dosya İşlemleri: Bir Dosyayı Okuma ve Yazma.\n",
        "21. API İle İlgili Sorular: Bir REST API Nasıl Kullanılır?\n",
        "22. Veri Analizi ve Manipülasyonu: Pandas ve NumPy Kullanarak Veri Analizi Yapma.\n",
        "23. Web Scraping: BeautifulSoup veya Scrapy Kullanarak Web'den Veri Çekme.\n",
        "Pratik Kodlama Soruları\n",
        "24. Python'da Bir String'i Tersine Çevirme.\n",
        "25. Python'da Anagramları Bulma.\n",
        "26. Python'da Bir Listeden Tekrarlayan Öğeleri Kaldırma.\n",
        "27. Belirli Bir Listede En Sık Görülen Öğeyi Bulma.\n",
        "28. Bir Matrisin Transpozunu Alma."
      ],
      "metadata": {
        "id": "FM8u9Q6Tah0W"
      }
    },
    {
      "cell_type": "markdown",
      "source": [
        "# Basic Python Questions\n",
        "1. What is Python? What are the advantages of Python?\n",
        "2. What are Variables and Data Types in Python?\n",
        "3. What are the Differences Between List, Tuple, Set and Dictionary in Python?\n",
        "4. What are Mutable and Immutable Data Types in Python?\n",
        "5. How to Define and Use Functions in Python?\n",
        "# Advanced Python Questions\n",
        "6. What is Decorator in Python and How to Use It?\n",
        "7. What is Generator in Python? How Does the Yield Keyword Work?\n",
        "8. How to Do Exception Handling in Python?\n",
        "9. What are Class and Object in Python? What are OOP Concepts?\n",
        "10. What are Inheritance and Polymorphism in Python?\n",
        "# Data Structures and Algorithms\n",
        "11. How to Implement Data Structures Such as Linked List, Stack, Queue?\n",
        "12. How Do Sorting and Searching Algorithms (e.g. Bubble Sort, Quick Sort, Binary Search) Work?\n",
        "13. How to Write Recursive Algorithms?\n",
        "# Python Specific Topics\n",
        "14. What are Lambda Functions and Anonymous Functions in Python?\n",
        "15. How to Use List Comprehensions and Dictionary Comprehensions?\n",
        "16. How to Do Python Modules and Package Management (pip)?\n",
        "17. What are the Differences Between Multithreading and Multiprocessing in Python?\n",
        "18. What are Global, Local and Nonlocal Variables in Python?\n",
        "# Applied Questions\n",
        "19. Writing an Algorithm to Solve a Specific Problem: For example, Fibonacci Sequence, Factorial Calculation.\n",
        "20. File Operations: Reading and Writing a File.\n",
        "21. API Questions: How to Use a REST API?\n",
        "22. Data Analysis and Manipulation: Performing Data Analysis Using Pandas and NumPy.\n",
        "23. Web Scraping: Extracting Data from the Web Using BeautifulSoup or Scrapy.\n",
        "# Practice Coding Questions\n",
        "24. Inverting a String in Python.\n",
        "25. Finding Anagrams in Python.\n",
        "26. Removing Duplicate Elements from a List in Python.\n",
        "27. Finding the Most Frequently Appearing Item in a Particular List.\n",
        "28. Transposing a Matrix."
      ],
      "metadata": {
        "id": "sc1dfGl1bh9m"
      }
    },
    {
      "cell_type": "markdown",
      "source": [
        "# A-BASIC QUESTIONS PYTHON- SOLUTİONS"
      ],
      "metadata": {
        "id": "L3a0YCaAb6sn"
      }
    },
    {
      "cell_type": "markdown",
      "source": [
        "## 1.What is Python? What are the advantages of Python?"
      ],
      "metadata": {
        "id": "YFG28ibFcLVQ"
      }
    },
    {
      "cell_type": "markdown",
      "source": [
        "\n",
        "\n",
        "```\n",
        "# Python is a high-level , general-purpose programming language developed by Guido Van Rossum in 1991.\n",
        "# It is known for its simple syntax and readability.\n",
        "# Advantages of Python include extensive library support , easy learnability , platform independence and wide community support.\n",
        "```\n",
        "\n"
      ],
      "metadata": {
        "id": "lA9nKcfhdKZg"
      }
    },
    {
      "cell_type": "markdown",
      "source": [
        "## 2.What are Variables and Data Types in Python?"
      ],
      "metadata": {
        "id": "3bKxY-tIdE4r"
      }
    },
    {
      "cell_type": "code",
      "source": [
        "# Variables and Data types examples\n",
        "x = 10   # Integer\n",
        "y = 3.14   #Float\n",
        "name = \"Kane\" # String\n",
        "is_valid = True # Boolean"
      ],
      "metadata": {
        "id": "clnMK8_MdYVh"
      },
      "execution_count": null,
      "outputs": []
    },
    {
      "cell_type": "markdown",
      "source": [
        "## 3.What are the Differences Between List, Tuple, Set and Dictionary in Python?"
      ],
      "metadata": {
        "id": "4wubt9LVjYYk"
      }
    },
    {
      "cell_type": "code",
      "source": [
        "# List ---> Mutable and sequential\n",
        "list = [1,2,3]\n",
        "\n",
        "# Tuple ---> Immutable and sequential\n",
        "my_tuple = (1,2,3)\n",
        "\n",
        "# Set ---> Mutable , non-sequetial and non-repetitive\n",
        "my_set = {1,2,3}\n",
        "\n",
        "# Dictionary ---> Mutable , key-value pairs and non-sequential\n",
        "my_dict {'a':1, 'b':2,'c':3}"
      ],
      "metadata": {
        "id": "265Lnb72jf6r"
      },
      "execution_count": null,
      "outputs": []
    },
    {
      "cell_type": "markdown",
      "source": [
        "## 4.What are Mutable and Immutable Data Types in Python?"
      ],
      "metadata": {
        "id": "ahzNbz_akvra"
      }
    },
    {
      "cell_type": "markdown",
      "source": [
        "\n",
        "\n",
        "```\n",
        "Mutable : List , Dictionary and Set\n",
        "Immutable : Tuple , String , Integer and Float\n",
        "```\n",
        "\n"
      ],
      "metadata": {
        "id": "wI_hZVi8k5Lg"
      }
    },
    {
      "cell_type": "markdown",
      "source": [
        "## 5.How to Define and Use Functions in Python?"
      ],
      "metadata": {
        "id": "XHnobXXFlJjk"
      }
    },
    {
      "cell_type": "code",
      "source": [
        "def greet(name):\n",
        "  return f\"Hello , {name}\"\n",
        "\n",
        "print(greet(\"kane\"))"
      ],
      "metadata": {
        "id": "AkkqQtP3k00b"
      },
      "execution_count": null,
      "outputs": []
    },
    {
      "cell_type": "markdown",
      "source": [
        "# B- Advanced Python Questions Solutions"
      ],
      "metadata": {
        "id": "xXS7BnrKlc59"
      }
    },
    {
      "cell_type": "markdown",
      "source": [
        "## 6.What is Decorator in Python and How to Use It?"
      ],
      "metadata": {
        "id": "gcVUA55ml8Be"
      }
    },
    {
      "cell_type": "markdown",
      "source": [
        "\n",
        "\n",
        "```\n",
        "DECORATOR\n",
        "# A decorator is a desing pattern in Python that allows a user to add new functionality to an existing object without modifying its structure(yapı)\n",
        "```\n",
        "\n"
      ],
      "metadata": {
        "id": "ZjJBEsIYmfGX"
      }
    },
    {
      "cell_type": "code",
      "source": [
        "def my_decorator(func):\n",
        "  def wrapper():\n",
        "    print(\"Something is happening before the function is called\")\n",
        "    func()\n",
        "    print(\"Something is happening after the function is called\")\n",
        "  return wrapper\n",
        "\n",
        "#----use of---\n",
        "\n",
        "@my_decorator\n",
        "say_hello():\n",
        "print(\"Hello\")\n",
        "\n",
        "say_hello()"
      ],
      "metadata": {
        "id": "hOHwgGNPlaQE"
      },
      "execution_count": null,
      "outputs": []
    },
    {
      "cell_type": "markdown",
      "source": [
        "## 7.What is Generator in Python? How Does the Yield Keyword Work?"
      ],
      "metadata": {
        "id": "dqjP6Kh4n0GW"
      }
    },
    {
      "cell_type": "markdown",
      "source": [
        "\n",
        "\n",
        "```\n",
        "GENERATOR\n",
        "- In Python,a generator is a function or expression that will process a given iterable one object at a time , on demand.\n",
        "- A generator will return a generator object,which can be cast as a list or some other data structure as appropriate.\n",
        "\n",
        "YIELD\n",
        "- The yield keyword in Python is similar to a return statement used for returning values or object in Python.\n",
        "- The yield statement returns a generator object to the one who calls the function which contains yield,instead of simply returning a value.\n",
        "```\n",
        "\n"
      ],
      "metadata": {
        "id": "LxMC5KZ2oAGK"
      }
    },
    {
      "cell_type": "code",
      "source": [
        "def simple_generator():\n",
        "  yield 1\n",
        "  yield 2\n",
        "  yield 3\n",
        "\n",
        "for value in simple_generator():\n",
        "  print(value)"
      ],
      "metadata": {
        "id": "Atw4Zu-_n2T8"
      },
      "execution_count": null,
      "outputs": []
    },
    {
      "cell_type": "markdown",
      "source": [
        "## 8.How to Do Exception Handling in Python?"
      ],
      "metadata": {
        "id": "7JJmZlUTqNPG"
      }
    },
    {
      "cell_type": "markdown",
      "source": [
        "\n",
        "\n",
        "```\n",
        "The Exception Handling is a precaution taken to continue the work in all possibilities\n",
        "```\n",
        "\n"
      ],
      "metadata": {
        "id": "9VA9lis3q5FM"
      }
    },
    {
      "cell_type": "code",
      "source": [
        "try:\n",
        "  x = 10 / 0\n",
        "except ZeroDivisionError:\n",
        "  print(\"Cannot divide by Zero\")\n",
        "finally:\n",
        "  print(\"This will execute no matter what\")"
      ],
      "metadata": {
        "id": "oRe8kXFjqV3k"
      },
      "execution_count": null,
      "outputs": []
    },
    {
      "cell_type": "markdown",
      "source": [
        "## 9.What are Class and Object in Python? What are OOP Concepts?"
      ],
      "metadata": {
        "id": "NUcYsVEmrHgF"
      }
    },
    {
      "cell_type": "markdown",
      "source": [
        "\n",
        "\n",
        "```\n",
        "OOP\n",
        "Object-Oriented Programming(OOP) is a software development paradigm that allows software to be build on four basic principles:\n",
        "1 - Classes\n",
        "2 - Objects\n",
        "3 - Inheritance\n",
        "4 - Polymorphism\n",
        "\n",
        "Advantages Of OOP\n",
        "\n",
        "1- Modularity : Code is organized in a moduler manner into classes and objects,making it easier to manage and maintain.\n",
        "2- Reusability : Code can be reused thanks to inheritance and polymorphism\n",
        "3- Flexibility: It is easy to add new classes and objects or modify existing ones.\n",
        "4- Understandability : Because the code is organized similar to real-world objects,it is easier to understand and follow\n",
        "\n",
        "**SUMMARY** : OOP makes large and complex software projects more manageable and maintainable.\n",
        "\n",
        "```\n",
        "\n"
      ],
      "metadata": {
        "id": "r5P6lQCjr1R9"
      }
    },
    {
      "cell_type": "markdown",
      "source": [
        "###  9.1-Classes\n",
        "- Classes are the building blocks of objects and are templates that define the properties(attributes) and behaviors(methods) of objects."
      ],
      "metadata": {
        "id": "g7e6fT3ZsZ8l"
      }
    },
    {
      "cell_type": "code",
      "source": [
        "class Car:\n",
        "  def __init__(self,make,model,year):\n",
        "    self.make = make\n",
        "    self.model = model\n",
        "    self.year = year\n",
        "\n",
        "  def display_info(self):\n",
        "    print(f\"{self.year} {self.make} {self.model}\")\n"
      ],
      "metadata": {
        "id": "mvUPx3Mfs18i"
      },
      "execution_count": null,
      "outputs": []
    },
    {
      "cell_type": "markdown",
      "source": [
        "### 9.2-Objects\n",
        "- Objects are instantiations derived from classes.\n",
        "- Each objct is an instance of the class and has the properties and behaviors defined in the class"
      ],
      "metadata": {
        "id": "QBIoH3QdtjHX"
      }
    },
    {
      "cell_type": "code",
      "source": [
        "my_car = Car(\"Ford\",\"Mustang\",1969)\n",
        "my_car.display_info()"
      ],
      "metadata": {
        "id": "ulC8ZXgquWNV"
      },
      "execution_count": null,
      "outputs": []
    },
    {
      "cell_type": "markdown",
      "source": [
        "### 9.3-Inheritance\n",
        "- Inheritance allows a class to inherit properties and methods from another class.\n",
        "- This increases code reusabilitiy and makes it possible to do more with less code."
      ],
      "metadata": {
        "id": "heQbNL-tufxW"
      }
    },
    {
      "cell_type": "code",
      "source": [
        "class ElectricCar(Car):\n",
        "  def __init__(self,make,model,year,battery_size):\n",
        "    super().__init__(make,model,year)\n",
        "    self.battery_size = battery_size\n",
        "\n",
        "  def display_info(self):\n",
        "    super().display_info()\n",
        "    print(f\"Battery Size : {self.battery_size} KWH\")\n",
        "\n",
        "\n",
        "# Use Of\n",
        "my_electric_car  = ElectricCar(\"Tesla\",\"Model S\",2024,100)\n",
        "my_electric_car.display_info()"
      ],
      "metadata": {
        "id": "qUooXgkjvTQl"
      },
      "execution_count": null,
      "outputs": []
    },
    {
      "cell_type": "markdown",
      "source": [
        "### 9.4-PolyMorphism\n",
        "- Polymorphism allows different classes to implement methods of the same name in different ways.\n",
        "- This ensures(sağlamak) that the same method can be used in different ways by different objects"
      ],
      "metadata": {
        "id": "OO5MESPXwKsM"
      }
    },
    {
      "cell_type": "code",
      "source": [
        "def GasolineCar(Car):\n",
        "  def __init__(self,make,model,year,tank_size):\n",
        "    super().__init__(make,model,year)\n",
        "    self.tank_size = tank_size\n",
        "\n",
        "  def display_info(self):\n",
        "    super().display_info()\n",
        "    print(f\"Tank Size : {self.tank_size} liters\")\n",
        "\n",
        "my_gasoline_car = GasolineCar(\"Opel\",\"Mokka\",2022,40)\n",
        "my_gasoline_car.display_info()"
      ],
      "metadata": {
        "id": "1QKrGBxSw1d-"
      },
      "execution_count": null,
      "outputs": []
    },
    {
      "cell_type": "markdown",
      "source": [
        "# C- Data Structures and Algorithms"
      ],
      "metadata": {
        "id": "hbTpYTxmzeLp"
      }
    },
    {
      "cell_type": "markdown",
      "source": [
        "## 11.How to Implement Data Structures Such as Linked List, Stack, Queue?"
      ],
      "metadata": {
        "id": "4-51kDFH0Zeo"
      }
    },
    {
      "cell_type": "markdown",
      "source": [
        "### 1-Linked List (Bağlı)\n",
        "- A linked list is a data structure where each element(node) contains a piece of data and reference(link) pointing to the next node.\n",
        "- Linked lists are used for storing sequential data and provide dynamic memory management."
      ],
      "metadata": {
        "id": "l97Xz6UY13Mt"
      }
    },
    {
      "cell_type": "code",
      "source": [
        "class Node:\n",
        "  def __init__(self,data):\n",
        "    self.data = data\n",
        "    self.next = None\n",
        "\n",
        "class LinkedList:\n",
        "  def __init__(self):\n",
        "    self.head = None\n",
        "\n",
        "  def append(self,data):\n",
        "    new_node = Node(data)\n",
        "    if not self.head:\n",
        "      self.head = new_data\n",
        "      return\n",
        "\n",
        "    last_node = self.head\n",
        "    while last_node.next:\n",
        "      last_node = last_node.next\n",
        "    last_node.next = new_node\n",
        "\n",
        "  def display(self):\n",
        "    current_node = self.head\n",
        "    while current_node:\n",
        "      print(current_node.data,end = \" -> \")\n",
        "      current_node = current_node.next\n",
        "    print(\"None\")\n",
        "\n",
        "\n",
        "# Use Of ---\n",
        "my_LL = LinkedList()\n",
        "my_LL.append(1)\n",
        "my_LL.append(2)\n",
        "my_LL.append(3)\n",
        "\n",
        "my_LL.display()\n"
      ],
      "metadata": {
        "id": "41x9PwS6ztFG"
      },
      "execution_count": null,
      "outputs": []
    },
    {
      "cell_type": "markdown",
      "source": [
        "### 2-Stack(Yığın)\n",
        "- A stack is a data structure that works on the LAST IN,FIRST OUT(LIFO) principle.\n",
        "- The last item added to the stack is the first item removed."
      ],
      "metadata": {
        "id": "IlMiWo9940br"
      }
    },
    {
      "cell_type": "code",
      "source": [
        "class Stack:\n",
        "  def __init__(self):\n",
        "    self.stack = []\n",
        "\n",
        "\n",
        "  def is_empty(self):\n",
        "    return len(self.stack) == 0\n",
        "\n",
        "  def push(self,data):\n",
        "    if not self.stack.is_empty():\n",
        "      return self.stack.append(data)\n",
        "    return None\n",
        "\n",
        "  def pop(self):\n",
        "    if not self.stack.is_empty():\n",
        "      return self.stack.pop()\n",
        "    return None\n",
        "\n",
        "  def peek(self):\n",
        "    if not self.stack.is_empty():\n",
        "      return self.stack[-1]\n",
        "    return None\n",
        "\n",
        "  def display(self):\n",
        "    print(self.stack)\n",
        "\n",
        "# Use Of ---\n",
        "\n",
        "s = Stack()\n",
        "\n",
        "s.push(1)\n",
        "s.push(2)\n",
        "s.push(3)\n",
        "\n",
        "print(s.pop())\n",
        "\n",
        "s.display()"
      ],
      "metadata": {
        "id": "-AGphWll5LlS"
      },
      "execution_count": null,
      "outputs": []
    },
    {
      "cell_type": "markdown",
      "source": [
        "### 3-Queue(kuyruk)\n",
        "- A queue is a data structure that works on the FIRST IN , FIRST OUT(FIFO) principle.\n",
        "- The first item added to the queue is the fist item removed."
      ],
      "metadata": {
        "id": "Rzs5PYGOG6bH"
      }
    },
    {
      "cell_type": "code",
      "source": [
        "class Queue:\n",
        "  def __init(self):\n",
        "    self.queue = []\n",
        "\n",
        "  def enqueue(self,data):\n",
        "    return queue.append(data)\n",
        "\n",
        "  def is_empty(self):\n",
        "    return len(self.queue) == 0\n",
        "\n",
        "  def dequeue(self):\n",
        "    if not self.queue.is_empty():\n",
        "      return self.queue.pop(0)\n",
        "    return None\n",
        "\n",
        "  def peek(self):\n",
        "    if not self.queue.is_empty():\n",
        "      return self.queue[0]\n",
        "    return None\n",
        "\n",
        "  def display(self):\n",
        "    print(self.queue)\n",
        "\n",
        "# use of ---\n",
        "\n",
        "q = Queue()\n",
        "q.enqueue(1)\n",
        "q.enqueue(2)\n",
        "q.enqueue(3)\n",
        "\n",
        "print(q.dequeue())\n",
        "q.display()"
      ],
      "metadata": {
        "id": "HVtE7FOSGmct"
      },
      "execution_count": null,
      "outputs": []
    },
    {
      "cell_type": "markdown",
      "source": [
        "## 12.How Do Sorting and Searching Algorithms (e.g. Bubble Sort, Quick Sort, Binary Search) Work?"
      ],
      "metadata": {
        "id": "O77rg78JJOED"
      }
    },
    {
      "cell_type": "markdown",
      "source": [
        "### 1-Bubble Sort\n",
        "- Bubble Sort is a simple sorting alhorithm that repeatedly steps through the list,compares adjacent elements,and swaps them if they are in the wrong order.The pass through the list is repeated until the list is sorted.\n",
        "\n",
        "**How it Works**\n",
        "\n",
        "1. Start at the beginning of the list\n",
        "2. Compare the first two elements.\n",
        "3. If the first element is greater than the second,swap them\n",
        "4. Move to the next pair of elements and repeat the process until the end of the list\n",
        "5. Repeat at entire process for the entire list until no swaps are needed"
      ],
      "metadata": {
        "id": "v1PtYKJFNDx2"
      }
    },
    {
      "cell_type": "code",
      "source": [
        "#first ,let's create a function called bubble_sort\n",
        "def bubble_sort(lst):\n",
        "  #and then find the length of the list\n",
        "  n = len(lst)\n",
        "  #we will create two nested loops to compare two elements that are next to each other\n",
        "  for i in range(n):\n",
        "    for j in range(0,n-i-1): #always for the next element -->   n-i-1\n",
        "    # if an element is greater than the elements to its right\n",
        "      if lst[j] > lst[j+1]:\n",
        "        # change their place\n",
        "        lst[j] , lst[j+1] = lst[j+1],lst[j]\n",
        "\n",
        "  return lst\n",
        "\n",
        "#Use of ---\n",
        "\n",
        "lst = [1,5,15,2,54,6,4,0,8]\n",
        "sorted_lst=bubble_sort(lst)\n",
        "print(f\"Sorted list named lst : {sorted_lst}\")"
      ],
      "metadata": {
        "id": "yHQNDjm0JzZ7"
      },
      "execution_count": null,
      "outputs": []
    },
    {
      "cell_type": "markdown",
      "source": [
        "###2-Quick Sort\n",
        "- Quick sort is a highly efficient sorting algorithm that uses the divide-and-conquer principle.\n",
        "- It works by selection a \"pivot\" element from the array and partitioning the other elements into two sub-arrays,according to whether they are less than or greater that the pivot\n",
        "\n",
        "**How It Works**\n",
        "\n",
        "1. Choose a pivot element from the array.\n",
        "2. Rearrange the array so that all elements less than the pivot are on the left,and all elements greater than the pivot are on the right.\n",
        "3. Recursively apply the above steps to the sub-arrays of elements with smaller and larger values"
      ],
      "metadata": {
        "id": "KSHCz9B9R0CI"
      }
    },
    {
      "cell_type": "code",
      "source": [
        "# First , Let's define a function called quick_sort\n",
        "def quick_sort(arr):\n",
        "  # Let's check the list first.It the list length is 1 or less , return the list.No need to sort\n",
        "  if len(arr) <= 1:\n",
        "    return arr\n",
        "  # Now let's find the term in the middle of the list\n",
        "  pivot = arr[len(arr)//2]\n",
        "  # Now in this section,we will define the terms on the left,right and middle according to term in the list we define as pivot\n",
        "  # we will call indexes smaller than the middle(pivot) index of the list left\n",
        "  left = [x for x in arr if x < pivot]\n",
        "  # middle to median index of the list\n",
        "  middle = [x for x in arr if x == pivot]\n",
        "  # we will call indexes greater than the middle(pivot) index of the list right\n",
        "  right = [ x for x in arr if x > pivot]\n",
        "  # we will recursively apply our function\n",
        "  return quick_sort(left) + middle + quick_sort(right)\n",
        "\n",
        "\n",
        "#Use of ----\n",
        "arr = [ 1,5,8,4,4,6,10,14,8]\n",
        "sorted_arr = quick_sort(arr)\n",
        "print(f\"Sorted list named arr : {sorted_arr}\")"
      ],
      "metadata": {
        "id": "YEvf_Z2YTgPW"
      },
      "execution_count": null,
      "outputs": []
    },
    {
      "cell_type": "markdown",
      "source": [
        "### 3-Binary Seach\n",
        "- Binary Search is an efficient algorithm for finding an item from a sorted list of items.\n",
        "- It works by repeatedly dividing in half the portion of the list that could contain the item,until you've narrowed down the possible locations to just one\n",
        "\n",
        "**How It Works**\n",
        "\n",
        "1. Start with the middle element of the sorted array\n",
        "2. If the target value is equal to the middle element,the search is complete\n",
        "3. If the target value is less than the middle element,repeat the search on the left half of the array\n",
        "4. If the target value is greater than the middle element,repeat seach on the right half of the array"
      ],
      "metadata": {
        "id": "ClzF6ynDAq81"
      }
    },
    {
      "cell_type": "code",
      "source": [
        "# Define a function called binary_seach\n",
        "def binary_search(arr,target):\n",
        "  # Now let's define the range for the left and right directions\n",
        "  left , right = 0,len(arr)-1\n",
        "  #we start a while loop for iteration\n",
        "  while left <= right:\n",
        "    # define the term in the middle\n",
        "    mid = (left + right)//2\n",
        "    #We look at the median term if it is the target value\n",
        "    if arr[mid] == target:\n",
        "      # we found what we are looking for\n",
        "      return mid\n",
        "      # if our target value is greater than the mid term\n",
        "    elif arr[mid] < target:\n",
        "      # To narrow(daraltmak) the range,we set our left variable to one more than the mid term.(mid+1)\n",
        "      # This will shift the search to the right of the mid term\n",
        "      return left = mid + 1\n",
        "      # if our target value is less than the mid term\n",
        "    else:\n",
        "      # If our target value is less than the median term , we will set right to mid -1\n",
        "      return right = mid - 1\n",
        "\n",
        "  return -1\n",
        "\n",
        "\n",
        "# Usage---\n",
        "\n",
        "arr = [2,3,5,10,40,70]\n",
        "target = 3\n",
        "result = binary_search(arr,target)\n",
        "print(\"Element found at index :\" , result if result != -1 else \"Element Not Found\")\n",
        "\n"
      ],
      "metadata": {
        "id": "Vxe4BRvvCXZr"
      },
      "execution_count": null,
      "outputs": []
    },
    {
      "cell_type": "markdown",
      "source": [
        "## 13.How to Write Recursive Algorithms?\n",
        "- In Python , it's also possible for a function to call itself.\n",
        "- A function that calls itself is said to be recursive,and the technique of employing a recursive dunction is called recursion.\n",
        "- It may seem peculiar for a function to call itself,but many types of programming problems are best expressed recursively"
      ],
      "metadata": {
        "id": "i6PeJOOrQRG8"
      }
    },
    {
      "cell_type": "code",
      "source": [
        "# Let's calculate the factorial as an examle of recursive algorithm\n",
        "# Define a function called factorial\n",
        "def factorial(n):\n",
        "  if n == 0:\n",
        "    return 1\n",
        "  else:\n",
        "    return n * factorial(n-1)\n",
        "\n",
        "# Usage\n",
        "print(factorial(5))"
      ],
      "metadata": {
        "id": "oV5mfaQ6QXq0"
      },
      "execution_count": null,
      "outputs": []
    },
    {
      "cell_type": "markdown",
      "source": [
        "# D- Python Specific Topics"
      ],
      "metadata": {
        "id": "D6e4P6inU9OF"
      }
    },
    {
      "cell_type": "markdown",
      "source": [
        "## 14.What are Lambda Functions and Anonymous Functions in Python?\n",
        "- In Python , lambda function are a way to create small , anonymous functions(functions without a name)\n",
        "- These functions are typically used for short, simple operations that are not going to be reused elsewhere in the code"
      ],
      "metadata": {
        "id": "HsnDFiJ6VHew"
      }
    },
    {
      "cell_type": "code",
      "source": [
        "# Usage Examples\n",
        "\n",
        "# A simple lambda function that adds 10 to a given number\n",
        "add_10 = lambda x : x + 10\n",
        "print(add_10(5))\n",
        "\n",
        "# A lambda function with two arguments that multiplies them\n",
        "multiply = lambda x , y : x * y\n",
        "print(multiply(2,3))"
      ],
      "metadata": {
        "id": "lyKGshz9VAmy"
      },
      "execution_count": null,
      "outputs": []
    },
    {
      "cell_type": "code",
      "source": [
        "# Using lambda with map function---The 'map()' function applies a given function to all items in an input list\n",
        "numbers = [1,2,3,4]\n",
        "squared = map(lambda x : x**2,numbers)\n",
        "print(list(squared))"
      ],
      "metadata": {
        "id": "-dEVlTe9YAOl"
      },
      "execution_count": null,
      "outputs": []
    },
    {
      "cell_type": "code",
      "source": [
        "# Using lambda with 'filter()' - The 'filter()' function filters a list based on a given function that returns a Boolian value\n",
        "numbers = [1,2,3,4,5,6]\n",
        "evens = filter(lambda x : x % 2 ==0,numbers)\n",
        "print(list(evens))"
      ],
      "metadata": {
        "id": "KxOezKl-YRI1"
      },
      "execution_count": null,
      "outputs": []
    },
    {
      "cell_type": "code",
      "source": [
        "# using lambda with 'sorted()'--- The 'sorted()' function can take a 'key' argument that specifies a function to be called\n",
        "# on each list element before making comparisons.\n",
        "points = [(2,3),(1,2),(4,1)]\n",
        "sorted_points  = sorted(points,key=lambda point:point[1])\n",
        "print(sorted_points)"
      ],
      "metadata": {
        "id": "Fy1fFjIxYxLz"
      },
      "execution_count": null,
      "outputs": []
    },
    {
      "cell_type": "markdown",
      "source": [
        "## 15.How to Use List Comprehensions and Dictionary Comprehensions?\n",
        "\n",
        "- List comprehensions and dictionary comprehensions in Python are concise(kısa-öz) ways to create list and dictionaries,respectively(sırasıyla).\n",
        "\n",
        "- They offer a more readable and often more efficient(verim) approach(yaklaşmak) to creating collections compared to traditional loops."
      ],
      "metadata": {
        "id": "lnGFg1xoaH0l"
      }
    },
    {
      "cell_type": "markdown",
      "source": [
        "### 1-List Comprehensions\n",
        "- A list comprehensions provides a syntactic way to create lists from existing lists,strings or any other iterable.\n",
        "\n",
        "\n",
        "```\n",
        "[expression for item in iterable if condition]\n",
        "\n",
        "- expression : The value to append to the list\n",
        "- item : The current item from the iterable\n",
        "- iterable : The collection to iterate over.\n",
        "- condition(optional): An optional condition to filter items\n",
        "```\n",
        "\n"
      ],
      "metadata": {
        "id": "R24QDyj1jC2R"
      }
    },
    {
      "cell_type": "code",
      "source": [
        "# 1- Simple List Comprehension\n",
        " # Creating a list of squares from 1 to 10\n",
        "squares = [x**2 for x in range(1,11)]\n",
        "print(squares)"
      ],
      "metadata": {
        "id": "tyyCTXZxaJdv"
      },
      "execution_count": null,
      "outputs": []
    },
    {
      "cell_type": "code",
      "source": [
        "#2-List Comprehension with Condition\n",
        " # Creating a list of even(çift) numbers from 1 to 10\n",
        "evens = [x for x in range(1,11) if x%2==0]\n",
        "print(evens)"
      ],
      "metadata": {
        "id": "BXSfM78YkQ6f"
      },
      "execution_count": null,
      "outputs": []
    },
    {
      "cell_type": "code",
      "source": [
        "# 3- List Comprehension with nested loops\n",
        " # Creating a list of tuples(x,y) for x and y in the range of 1 to 3\n",
        "pairs = [(x,y) for x in range(1,4) for y in range(1,4)]\n",
        "print(pairs)"
      ],
      "metadata": {
        "id": "qSx58fzikQ8y"
      },
      "execution_count": null,
      "outputs": []
    },
    {
      "cell_type": "markdown",
      "source": [
        "###2-Dictionary Comprehension\n",
        "- Dictionary Comprehension are similar to list comprehensions but create dictionaries instead of list\n",
        "\n",
        "\n",
        "```\n",
        "{key_expression : value_expression for item in iterable if condition}\n",
        "```\n",
        "\n"
      ],
      "metadata": {
        "id": "5NFJAEamlaOU"
      }
    },
    {
      "cell_type": "code",
      "source": [
        "#1-Simple Dictionary Comprehension\n",
        " # Creating a dictionary of numbers and their squares from 1 to 5\n",
        "squares_dict = {x : x**2 for x in range(1,6)}\n",
        "print(squares_dict)"
      ],
      "metadata": {
        "id": "txLQAD4hkQ_L"
      },
      "execution_count": null,
      "outputs": []
    },
    {
      "cell_type": "code",
      "source": [
        "# 2-Dictionary Comprehension with Conditions\n",
        "  # Create a dictionary of even numbers and their squares from 1 to 10\n",
        "evens_squared_dict = {x : x**2 for x in range(1,11) if x%2==0}\n",
        "print(evens_squared_dict)"
      ],
      "metadata": {
        "id": "toczxEY-kRBe"
      },
      "execution_count": null,
      "outputs": []
    },
    {
      "cell_type": "code",
      "source": [
        "#3- Dictionary Comprehension from Two lists\n",
        " # Creating a dictionary from two lists,one of keys and one of values\n",
        " keys = ['a','b','c']\n",
        " values = [1,2,3]\n",
        " combined_dict = {k:v for k,v in zip(keys,values)}\n",
        " print(combined_dict)"
      ],
      "metadata": {
        "id": "L9rG2FNjm8G4"
      },
      "execution_count": null,
      "outputs": []
    },
    {
      "cell_type": "markdown",
      "source": [
        "###*********BONUS:TRADITIONAL LOOPS VS COMPREHENSIONS*********"
      ],
      "metadata": {
        "id": "yiNY4GuZnygJ"
      }
    },
    {
      "cell_type": "code",
      "source": [
        "# List Comprehension vs Loop\n",
        "\n",
        "# Loop\n",
        "squares = []\n",
        "for x in range(1,11):\n",
        "  squares.append(x**2)\n",
        "\n",
        "# List Comprehension\n",
        "squares = [x**2 for x in range(1,11)]"
      ],
      "metadata": {
        "id": "6FTMlM7EnvMH"
      },
      "execution_count": null,
      "outputs": []
    },
    {
      "cell_type": "code",
      "source": [
        "# Dictionary Comprehension VS Loop\n",
        "# Loop\n",
        "squared_dict = {}\n",
        "for x in range(1,11):\n",
        "  squared_dict[x]: x**2\n",
        "\n",
        "# Dictionary Comprehension\n",
        "squared_dict = { x : x**2 for x in range(1,11)}"
      ],
      "metadata": {
        "id": "x3JxVKECoa9G"
      },
      "execution_count": null,
      "outputs": []
    },
    {
      "cell_type": "markdown",
      "source": [
        "## 16.How to Do Python Modules and Package Management (pip)?"
      ],
      "metadata": {
        "id": "1WZa_I8ao2LJ"
      }
    },
    {
      "cell_type": "code",
      "source": [
        "import requests\n",
        "\n",
        "response = requests.get('http://api.github.com')\n",
        "print(respnse.status_code)"
      ],
      "metadata": {
        "id": "zOJNhFGqATmH"
      },
      "execution_count": null,
      "outputs": []
    },
    {
      "cell_type": "markdown",
      "source": [
        "##17.What are the Differences Between Multithreading and Multiprocessing in Python?"
      ],
      "metadata": {
        "id": "ISg3ywCrAwCd"
      }
    },
    {
      "cell_type": "markdown",
      "source": [
        "\n",
        "\n",
        "```\n",
        "MultiThreading: Multithreading involves the concurrent execution threads within a single process.\n",
        "\n",
        "#Memory Space : Shared memory space\n",
        "#GIL : Affected by GIL(not suitable for CPU-bound tasks)\n",
        "#Overhead : Lover memory overhead\n",
        "# Communication : Easier communication(shared memory)\n",
        "# Use Case : I/O - bound tasks\n",
        "```\n",
        "\n",
        "\n",
        "\n",
        "```\n",
        "Multiprocessing: Multiprocessing involves the concurrent execution of multiple processes.\n",
        "\n",
        "# Memory Space : Seperate memory space\n",
        "# GIL : Not affected by GIL(suitable for CPU-bound tasks)\n",
        "# Overhead : Higher memory overhead\n",
        "# Communication : More complex communication(needs explicit sharing)\n",
        "# USe Case : CPU-bound tasks\n",
        "```\n",
        "\n",
        "\n",
        "\n",
        "```\n",
        "WHEN TO USE EACH\n",
        "# Multithreading : Use multithreading for tasks that are I/O-bound, such as network operations, file I/O, and waiting for user input. It allows your program to remain responsive while waiting for I/O operations to complete.\n",
        "\n",
        "# Multiprocessing: Use multiprocessing for CPU-bound tasks, such as mathematical computations, data processing, and other tasks that require significant CPU time. It allows you to fully utilize multiple CPU cores and bypass the limitations of the GIL.\n",
        "```\n",
        "\n",
        "\n"
      ],
      "metadata": {
        "id": "FyD0siv2CZU5"
      }
    },
    {
      "cell_type": "markdown",
      "source": [
        "## 18.What are Global, Local and Nonlocal Variables in Python?\n",
        "- In Python , variables have different scopes(kapsam) and lifetime depending(bağlı olarak) on where they are declared(bildirmek-beyan etmek).\n",
        "- These scopes determine(belirlemek) where the variables can be accessed and modified.\n",
        "- The three main types of variable scopes are *global , * local and * nonlocal"
      ],
      "metadata": {
        "id": "njw2d7GlEkeA"
      }
    },
    {
      "cell_type": "markdown",
      "source": [
        "###1-Global Variables\n",
        "Global variables are variables that are defined outside of any function and are accessible throughout the entire program.They have a global scope.\n",
        "\n",
        "**Key Points**\n",
        "- Declared outside of all functions\n",
        "- Can be accessed and modified by any function within the same module\n",
        "- If you need to modify a global variable inside a function,you must use the 'global' keyword."
      ],
      "metadata": {
        "id": "pt2kiowoG8Ai"
      }
    },
    {
      "cell_type": "code",
      "source": [
        "# Example\n",
        "x = 10  # Global Variable\n",
        "\n",
        "def func():\n",
        "  global x\n",
        "  x = 20 # Modifying the global variable\n",
        "  print(f\"Inside Func : {x}\")\n",
        "\n",
        "func()\n",
        "print(f\"Outside func : {x}\")"
      ],
      "metadata": {
        "id": "ARp8vtx0A49o"
      },
      "execution_count": null,
      "outputs": []
    },
    {
      "cell_type": "markdown",
      "source": [
        "###2-Local Variables\n",
        "- Local variables are variables that are defined within a function.They have a local scope and can only be accessed within the function in which they are declared.\n",
        "\n",
        "**KEY POİNTS**\n",
        "- Declared inside a function\n",
        "- Only accessible within that function\n",
        "- Created when the function is called,and destroyed when the function exist."
      ],
      "metadata": {
        "id": "sKfT0xVZM7Jt"
      }
    },
    {
      "cell_type": "code",
      "source": [
        "#Example\n",
        "def func():\n",
        "  x = 10 # Local variable\n",
        "  print(f\"Inside func : {x}\")\n",
        "\n",
        "func()\n",
        "# print(x)  # This would raise a NameError since x is not accessible outside func\n"
      ],
      "metadata": {
        "id": "D5ehzBRmNz1y"
      },
      "execution_count": null,
      "outputs": []
    },
    {
      "cell_type": "markdown",
      "source": [
        "###3-Nonlocal Variables\n",
        "-Nonlocal variables are used in nested functions(functions defined within other functions).They allow you to modify the value of a variable in the enclosing(non-global)scope.\n",
        "\n",
        "**KEY POINTS**\n",
        "- Declared inside a nested function\n",
        "- Used to access and modify variables in the outer(enclosing(çevreleyen)) function's scope.\n",
        "- The 'non-local' keyword is used to declare a nonlocal variable."
      ],
      "metadata": {
        "id": "ubGJ5DBDOD2B"
      }
    },
    {
      "cell_type": "code",
      "source": [
        "# Example\n",
        "def outer():\n",
        "  x = 10 # Enclosing scope variable\n",
        "\n",
        "  def inner():\n",
        "    x = 20 # Modifying the enclosing scope variable\n",
        "    print(f\"Inside Inner : {x}\")\n",
        "\n",
        "  inner()\n",
        "  print(f\"Inside outer : {x}\")\n",
        "\n",
        "outer()"
      ],
      "metadata": {
        "id": "YBFLbeSlO4Hh"
      },
      "execution_count": null,
      "outputs": []
    },
    {
      "cell_type": "markdown",
      "source": [
        "# E-Applied Questions"
      ],
      "metadata": {
        "id": "a-IH1kg_PxNH"
      }
    },
    {
      "cell_type": "markdown",
      "source": [
        "## 19.Writing an Algorithm to Solve a Specific Problem: For example, Fibonacci Sequence, Factorial Calculation."
      ],
      "metadata": {
        "id": "jehhHO5WQk_i"
      }
    },
    {
      "cell_type": "markdown",
      "source": [
        "###1-Fibonacci Sequence"
      ],
      "metadata": {
        "id": "Iy7HuicmQqn9"
      }
    },
    {
      "cell_type": "code",
      "source": [
        "# Let's define a function called fibonacci\n",
        "def fibonacci(n):\n",
        "  # Initialize the first two fibonacci numbers\n",
        "  a , b = 0 ,1\n",
        "\n",
        "  # Create an empty list to store the fibonacci sequence\n",
        "  sequence =[]\n",
        "\n",
        "  #Loop to generate the fibonacci sequence\n",
        "  for _ in range(n):\n",
        "    # Append the current fibonacci number to the sequence\n",
        "    sequence.append(a)\n",
        "\n",
        "    #Update the values of a and b to the next Fibonacci numbers\n",
        "    a , b = b , a + b\n",
        "\n",
        "  return sequence\n",
        "\n",
        "#Usage - Generate the first 10 fibonacci numbers\n",
        "print(fibonacci(10))"
      ],
      "metadata": {
        "id": "8O6LMxzXP1L2"
      },
      "execution_count": null,
      "outputs": []
    },
    {
      "cell_type": "markdown",
      "source": [
        "###2-Factorial Calculation"
      ],
      "metadata": {
        "id": "0qxuuvFNTn1T"
      }
    },
    {
      "cell_type": "code",
      "source": [
        "# Create function caşşed factorial\n",
        "def factorial(n):\n",
        "\n",
        "  # İnitialize the result to 1\n",
        "  result = 1\n",
        "\n",
        "  # Loop from 1 to n(inclusive) to calculate the factorial\n",
        "  for i in range(1,n+1):\n",
        "    # Multipy the current result by i\n",
        "    result *= i\n",
        "\n",
        "  # Return the final result\n",
        "  return result\n",
        "\n",
        "# Usage -- Calculate the factorial of 5\n",
        "print(factorial(5))"
      ],
      "metadata": {
        "id": "45LUM-NUTuaV"
      },
      "execution_count": null,
      "outputs": []
    },
    {
      "cell_type": "code",
      "source": [
        "#Alternative Solutions of Factorial Calculation with Recursive Function\n",
        "\n",
        "# Define a function called factorial\n",
        "def factorial(n):\n",
        "  # Base Case : if n == 0 or n ==1 ,return 1\n",
        "  if n <=1:\n",
        "    return 1\n",
        "  #Recursive case : n* factorial of (n-1)\n",
        "  else:\n",
        "    return n * factorial(n-1)\n",
        "\n",
        "# Usage - Calculate the factorial of 5\n",
        "print(factorial(5))"
      ],
      "metadata": {
        "id": "Usr8et7XWIrH"
      },
      "execution_count": null,
      "outputs": []
    },
    {
      "cell_type": "markdown",
      "source": [
        "##20.File Operations: Reading and Writing a File."
      ],
      "metadata": {
        "id": "jzoVwNsBXQ8Q"
      }
    },
    {
      "cell_type": "markdown",
      "source": [
        "###1-Opening File"
      ],
      "metadata": {
        "id": "ap0voAPFYBZr"
      }
    },
    {
      "cell_type": "code",
      "source": [
        "files = open('example.txt','r') # Open a file for reading 'r'"
      ],
      "metadata": {
        "id": "OAjWqApKYATy"
      },
      "execution_count": null,
      "outputs": []
    },
    {
      "cell_type": "markdown",
      "source": [
        "###2-Reading from a file"
      ],
      "metadata": {
        "id": "mBs27_h1YRSt"
      }
    },
    {
      "cell_type": "code",
      "source": [
        "files = open('example.txt','r')\n",
        "\n",
        "# Read the entire file\n",
        "content = files.read()\n",
        "print(content)\n",
        "\n",
        "# Read one line at a time\n",
        "files.seek(0) # Move the curser to the beginning of the file\n",
        "line = files.readline()\n",
        "print(line)\n",
        "\n",
        "# Read all lines into a files\n",
        "files.seek(0)\n",
        "lines = files.readlines()\n",
        "print(lines)\n",
        "\n",
        "files.close()  # Close the files\n"
      ],
      "metadata": {
        "id": "w0IReRiUYaU2"
      },
      "execution_count": null,
      "outputs": []
    },
    {
      "cell_type": "markdown",
      "source": [
        "###3-Writing to a File"
      ],
      "metadata": {
        "id": "WaA3FBXJZPrU"
      }
    },
    {
      "cell_type": "code",
      "source": [
        "docs = open('example.txt','w')\n",
        "\n",
        "# Write a single string to the docs\n",
        "docs.write(\"Hello , Kane!\\n\")\n",
        "\n",
        "#Write multiple lines to the docs\n",
        "lines = [\"First Line \\n\",\"Second Line\\n\",\"Third Line\\n\"]\n",
        "docs.writelines(lines)\n",
        "\n",
        "docs.close()"
      ],
      "metadata": {
        "id": "LW5EN7EYZTsS"
      },
      "execution_count": null,
      "outputs": []
    },
    {
      "cell_type": "markdown",
      "source": [
        "###4-Appending to a File\n"
      ],
      "metadata": {
        "id": "glgznMROZ6yh"
      }
    },
    {
      "cell_type": "code",
      "source": [
        "files = open('example.txt','a')\n",
        "\n",
        "# Append a single string to the files\n",
        "files.write('Appended line\\n')\n",
        "\n",
        "files.close()"
      ],
      "metadata": {
        "id": "pdLxmby3Z-IA"
      },
      "execution_count": null,
      "outputs": []
    },
    {
      "cell_type": "markdown",
      "source": [
        "### BONUS:USING 'WITH' STATEMENT\n",
        "- Using the 'with' statement is a good practice because it automatically closes the file for you when the block inside the 'with' statement is exited."
      ],
      "metadata": {
        "id": "XaYoTyawaMwr"
      }
    },
    {
      "cell_type": "code",
      "source": [
        "# Open the file 'with'\n",
        "with open('example.txt','r') as files:\n",
        "  content = files.read()\n",
        "  print(content)\n",
        "\n",
        "# Writing to a file\n",
        "with open('Example.txt','w') as files:\n",
        "  files.write('This is the first line\\n')\n",
        "  files.write('This is the second line\\n')\n",
        "\n",
        "# Appending to the file\n",
        "with open('example.txt','a') as files:\n",
        "  files.write('This line is appended\\n')\n",
        "\n",
        "# Reading from the file\n",
        "with open('example.txt','r') as files:\n",
        "  print('Reading Entire File:')\n",
        "  content = files.read()\n",
        "  print(content)\n",
        "\n",
        "# Reading the file line by line\n",
        "with open('example.txt','r') as files:\n",
        "  print('Reading the file line by line:')\n",
        "  for line in files:\n",
        "    print(line.strip())\n",
        "\n",
        "# Reading all lines into a list\n",
        "with open('example.txt','r') as files:\n",
        "  lines = files.readlines()\n",
        "  print('Reading all lines into a list')\n",
        "  print(lines)"
      ],
      "metadata": {
        "id": "IoI2KH1nawqm"
      },
      "execution_count": null,
      "outputs": []
    },
    {
      "cell_type": "markdown",
      "source": [
        "##21.API Questions: How to Use a REST API?"
      ],
      "metadata": {
        "id": "lmvLlhKccUcb"
      }
    },
    {
      "cell_type": "code",
      "source": [
        "import requests\n",
        "\n",
        "response = requests.get('http://api.github.com')\n",
        "print(response)"
      ],
      "metadata": {
        "id": "5MCc6tmNcnFa"
      },
      "execution_count": null,
      "outputs": []
    },
    {
      "cell_type": "markdown",
      "source": [
        "##23.Web Scraping: Extracting Data from the Web Using BeautifulSoup or Scrapy"
      ],
      "metadata": {
        "id": "vvRXV2DbdBlc"
      }
    },
    {
      "cell_type": "code",
      "source": [
        "from bs4 import BeautifulSoup\n",
        "import requests\n",
        "\n",
        "url = 'https://example.com'\n",
        "response = requests.get(url)\n",
        "soup = BeautifulSoup(response.content,'html.parser')\n",
        "\n",
        "print(soup.title.text)"
      ],
      "metadata": {
        "id": "jLbL6EU2E4i8"
      },
      "execution_count": null,
      "outputs": []
    },
    {
      "cell_type": "markdown",
      "source": [
        "#F- Practice Coding Questions"
      ],
      "metadata": {
        "id": "bl25zPb6FbZK"
      }
    },
    {
      "cell_type": "markdown",
      "source": [
        "##24.Inverting a String in Python."
      ],
      "metadata": {
        "id": "q2Ahnnw_Fgz9"
      }
    },
    {
      "cell_type": "code",
      "source": [
        "def reverse_string(s):\n",
        "  return s[::-1]\n",
        "\n",
        "print(reverse_string('David'))"
      ],
      "metadata": {
        "id": "ZsVrqZkwGSMi"
      },
      "execution_count": null,
      "outputs": []
    },
    {
      "cell_type": "markdown",
      "source": [
        "##25.Finding Anagrams in Python."
      ],
      "metadata": {
        "id": "yy7Wd8uwGsWb"
      }
    },
    {
      "cell_type": "code",
      "source": [
        "def are_anagrams(str1,str2):\n",
        "  return sorted(str1)== sorted(str2)\n",
        "\n",
        "print(are_anagrams('listen','silent'))"
      ],
      "metadata": {
        "id": "48DqH6l9IPm1"
      },
      "execution_count": null,
      "outputs": []
    },
    {
      "cell_type": "markdown",
      "source": [
        "##26.Removing Duplicate Elements from a List in Python."
      ],
      "metadata": {
        "id": "aw0ucwxUI3Xk"
      }
    },
    {
      "cell_type": "code",
      "source": [
        "def remove_duplicates(lst):\n",
        "  return list(set(lst))\n",
        "\n",
        "print(remove_duplicates([1,1,2,2,2,3,5,5,5,7]))"
      ],
      "metadata": {
        "id": "d9-PmN7II4w7"
      },
      "execution_count": null,
      "outputs": []
    },
    {
      "cell_type": "markdown",
      "source": [
        "##27.Finding the Most Frequently Appearing Item in a Particular List."
      ],
      "metadata": {
        "id": "wDNGsp-sJJtc"
      }
    },
    {
      "cell_type": "code",
      "source": [
        "def most_frequent_item(lst):\n",
        "  frequency = {}\n",
        "\n",
        "  #Count the frequency of each item in the list\n",
        "  for item in lst:\n",
        "    if item in frequency:\n",
        "      frequeny += 1\n",
        "    else:\n",
        "      frequency[item] = 1\n",
        "\n",
        "  # Find the item with the highest frequency\n",
        "  most_frequent = max(frequency,key = frequency.get)\n",
        "  return most_frequent\n",
        "\n",
        "example_list = [1,2,2,3,3,3,4,4,4,4,4,4,5]\n",
        "print(most_frequent_item(example_list))"
      ],
      "metadata": {
        "id": "zsK6aCg9JLVx"
      },
      "execution_count": null,
      "outputs": []
    },
    {
      "cell_type": "code",
      "source": [
        "# Alternative Solutions with Counter\n",
        "from collections import Counter\n",
        "\n",
        "def most_frequent_item(lst):\n",
        "  # Use Counter to count frequenciess\n",
        "  counter = Counter(lst)\n",
        "\n",
        "  # Find the most common item\n",
        "  most_frequent = counter.most_common(1)[0][0] # [0][0] extracts the most frequent item\n",
        "  return most_frequent\n",
        "\n",
        "# Example usage\n",
        "example_list = [1,1,2,2,2,3,3,3,3,4,4,4]\n",
        "print(most_frequent_item(example_list))"
      ],
      "metadata": {
        "id": "NynPcK34quqF"
      },
      "execution_count": null,
      "outputs": []
    },
    {
      "cell_type": "code",
      "source": [
        "#Alternative solution with 'max()' key argument\n",
        "def most_frequent_item(lst):\n",
        "  # USe max with a custom key to find the most frequent item\n",
        "  most_frequent = max(lst,key=lst.count)\n",
        "  return most_frequent\n",
        "\n",
        "# Example usage\n",
        "example_list = [1,2,3,4,4,4,4,4,4,5,5,5,5,5,5]\n",
        "print(most_frequent_item(example_list))"
      ],
      "metadata": {
        "id": "OPbIqnJNro0F"
      },
      "execution_count": null,
      "outputs": []
    },
    {
      "cell_type": "markdown",
      "source": [
        "##28.Transposing a Matrix."
      ],
      "metadata": {
        "id": "p5ZdUVYxsQVS"
      }
    },
    {
      "cell_type": "code",
      "source": [
        "def transpose(matrix):\n",
        "  return list(map(list,zip(*matrix)))\n",
        "\n",
        "# Example Usage\n",
        "matrix = [[1,2,3],[4,5,6],[7,8,9]]\n",
        "print(transpose(matrix))"
      ],
      "metadata": {
        "id": "q9OCsWe4sTHr"
      },
      "execution_count": null,
      "outputs": []
    },
    {
      "cell_type": "code",
      "source": [
        "# Alternative Solution\n",
        "def transpose(matrix):\n",
        "  return [[matrix[j][i] for j in range(len(matrix))] for i in range(len(matrix[0])) ]\n",
        "\n",
        "# Example usage\n",
        "matrix = [\n",
        "    [1, 2, 3],\n",
        "    [4, 5, 6],\n",
        "    [7, 8, 9]\n",
        "]\n",
        "transposed = transpose(matrix)\n",
        "print(transposed)"
      ],
      "metadata": {
        "id": "GQJ_PVB5uHgO"
      },
      "execution_count": null,
      "outputs": []
    },
    {
      "cell_type": "code",
      "source": [
        "# Alternative Solutions\n",
        "def transpose(matrix):\n",
        "  return [list(row) for row in zip(*matrix)]\n",
        "\n",
        "\n",
        "#Usage---\n",
        "matrix = [\n",
        "    [1, 2, 3],\n",
        "    [4, 5, 6],\n",
        "    [7, 8, 9]\n",
        "]\n",
        "transposed = transpose(matrix)\n",
        "print(transposed)"
      ],
      "metadata": {
        "id": "xDFDs_1nutXN"
      },
      "execution_count": null,
      "outputs": []
    },
    {
      "cell_type": "markdown",
      "source": [
        "##22.1.NUMPY"
      ],
      "metadata": {
        "id": "hbXx51mlvNyX"
      }
    },
    {
      "cell_type": "markdown",
      "source": [
        "###1-Installing and Importing Numpy"
      ],
      "metadata": {
        "id": "vA_n7s1WwFWG"
      }
    },
    {
      "cell_type": "code",
      "source": [
        "# Installing numpy\n",
        "!pip install numpy\n",
        "\n",
        "# İmport numpy\n",
        "import numpy as np"
      ],
      "metadata": {
        "id": "-u5OkkogvwAE"
      },
      "execution_count": null,
      "outputs": []
    },
    {
      "cell_type": "markdown",
      "source": [
        "###2-Basic Numpy Arrays"
      ],
      "metadata": {
        "id": "Qotyk8D2wNTY"
      }
    },
    {
      "cell_type": "markdown",
      "source": [
        "####2.1-Creating Array"
      ],
      "metadata": {
        "id": "PRObov0sweoc"
      }
    },
    {
      "cell_type": "code",
      "source": [
        "#1-Converting list to numpy array\n",
        "a = np.array([1,2,3,4])\n",
        "\n",
        "#2- Series starting from 1 to 10 and increasing by 1\n",
        "b = np.arange(0,10,1)\n",
        "\n",
        "#3- 5 evenly spaced dots between 0 and 1\n",
        "c = np.linspace(0,1,5)\n",
        "\n",
        "#4- Arrays of zero\n",
        "zeros = np.zeros((2,3)) # Matrix of 2 rows and 3 columns\n",
        "\n",
        "#5- Arrays of ones\n",
        "ones = np.ones((2,3))\n",
        "\n",
        "#6- Arrays of random numbers\n",
        "random = np.random.random((2,3))\n",
        "\n",
        "#7- Arrays of random integers number\n",
        "randint = np.random.randint(0,20,10) # 10 integers between 0 and 20"
      ],
      "metadata": {
        "id": "dk7Vtvi2vwFH"
      },
      "execution_count": null,
      "outputs": []
    },
    {
      "cell_type": "markdown",
      "source": [
        "####2.2-Arrays Attributes"
      ],
      "metadata": {
        "id": "3Tts4XYGzZWI"
      }
    },
    {
      "cell_type": "code",
      "source": [
        "#1-Arrays Shape\n",
        "print(a.shape)\n",
        "\n",
        "#2-Arrays Size\n",
        "print(a.size)\n",
        "\n",
        "#3-Arrays data types\n",
        "print(a.dtype)\n",
        "\n",
        "#4- Represents the number of dimensions(axes) of the array\n",
        "print(a.ndim)"
      ],
      "metadata": {
        "id": "DTSObAXTvwHm"
      },
      "execution_count": null,
      "outputs": []
    },
    {
      "cell_type": "markdown",
      "source": [
        "####2.3-Arrays Reshaping"
      ],
      "metadata": {
        "id": "Wdh5l3rn02Zz"
      }
    },
    {
      "cell_type": "code",
      "source": [
        "a = np.array([1,2,3,4,5,6])\n",
        "a = a.reshape((2,3))\n",
        "print(a)"
      ],
      "metadata": {
        "id": "JvIcRXKnvwKW"
      },
      "execution_count": null,
      "outputs": []
    },
    {
      "cell_type": "markdown",
      "source": [
        "###3-Operations with Arrays"
      ],
      "metadata": {
        "id": "Zy6XgYoi1Mg0"
      }
    },
    {
      "cell_type": "markdown",
      "source": [
        "####3.1-Basic Mathematical Operations"
      ],
      "metadata": {
        "id": "XKANj5V_1SRD"
      }
    },
    {
      "cell_type": "code",
      "source": [
        "x = np.array([1,2,3])\n",
        "y = np.array([4,5,6])\n",
        "\n",
        "# addition\n",
        "print(np.add(x,y))\n",
        "print(x+y)\n",
        "\n",
        "# subtraction\n",
        "print(np.subtract(x,y))\n",
        "print(x-y)\n",
        "\n",
        "# multiplication\n",
        "print(np.multiply(x,y))\n",
        "print(x*y)\n",
        "\n",
        "# division\n",
        "print(np.divide(x,y))\n",
        "print(x/y)"
      ],
      "metadata": {
        "id": "mXYEZwxrvwNZ"
      },
      "execution_count": null,
      "outputs": []
    },
    {
      "cell_type": "markdown",
      "source": [
        "####3.2-Universal Functions(ufuncs)"
      ],
      "metadata": {
        "id": "vw5OmFSC2RFX"
      }
    },
    {
      "cell_type": "code",
      "source": [
        "#1-Square root\n",
        "print(np.sqrt(x))\n",
        "\n",
        "#2-Sinus Func\n",
        "print(np.sin(x))\n",
        "\n",
        "# Log\n",
        "print(np.log(x))"
      ],
      "metadata": {
        "id": "2F72foTEvwPZ"
      },
      "execution_count": null,
      "outputs": []
    },
    {
      "cell_type": "markdown",
      "source": [
        "####3.3-Statictical and Mathematical Functions"
      ],
      "metadata": {
        "id": "f2Oobqa-200Y"
      }
    },
    {
      "cell_type": "code",
      "source": [
        "x = np.random.randint(0,10,(2,3)) # between 0 and 10 --2 rows 3 columns\n",
        "\n",
        "# Total\n",
        "print(np.sum(x))\n",
        "\n",
        "# Calculate the Average\n",
        "print(np.mean(x))\n",
        "\n",
        "#Standart Deviation\n",
        "print(np.std(x))\n",
        "\n",
        "# Min and Max value\n",
        "print(np.min(x))\n",
        "print(np.max(x))\n",
        "\n",
        "# Median\n",
        "print(np.median(x))\n",
        "\n"
      ],
      "metadata": {
        "id": "RVNC5nSp3Hc2"
      },
      "execution_count": null,
      "outputs": []
    },
    {
      "cell_type": "markdown",
      "source": [
        "###4-Array Slicing and Indexing"
      ],
      "metadata": {
        "id": "IxCrEOf54uY-"
      }
    },
    {
      "cell_type": "markdown",
      "source": [
        "####4.1-Array Slicing"
      ],
      "metadata": {
        "id": "P5o12ZXA480s"
      }
    },
    {
      "cell_type": "code",
      "source": [
        "x = np.arange(0,10)\n",
        "\n",
        "#1-First three element\n",
        "print(x[:3])\n",
        "\n",
        "#2-Last three elements\n",
        "print(x[-3:])\n",
        "\n",
        "#3-From index 2 to index 6\n",
        "print(x[2:6])\n"
      ],
      "metadata": {
        "id": "heTv4ErS42_Z"
      },
      "execution_count": null,
      "outputs": []
    },
    {
      "cell_type": "markdown",
      "source": [
        "####4.2-Indexing"
      ],
      "metadata": {
        "id": "H9Pa_Iv761yj"
      }
    },
    {
      "cell_type": "code",
      "source": [
        "a = np.array([[1, 2, 3], [4, 5, 6]])\n",
        "\n",
        "#1- A specific element\n",
        "print(a[0,1]) # First rows second columns --> 2\n",
        "\n",
        "#2- A specific rows\n",
        "print(a[1,:])\n",
        "\n",
        "#3- A specific columns\n",
        "print(a[:,1])"
      ],
      "metadata": {
        "id": "H6_NYcU367bp"
      },
      "execution_count": null,
      "outputs": []
    },
    {
      "cell_type": "markdown",
      "source": [
        "###5-Logical Operations and Conditional Choices"
      ],
      "metadata": {
        "id": "XwaRacyC7Ney"
      }
    },
    {
      "cell_type": "code",
      "source": [
        "a = np.array([1,2,3,4,5])\n",
        "\n",
        "# Logical Conditional\n",
        "print(a>3) # False,False,False,True,True\n",
        "print(a[a>3])  # 4,5"
      ],
      "metadata": {
        "id": "S6Wk2iQP8F-R"
      },
      "execution_count": null,
      "outputs": []
    },
    {
      "cell_type": "markdown",
      "source": [
        "###6-Visualize with Numpy and Matplotlib"
      ],
      "metadata": {
        "id": "VKIIoyq68ong"
      }
    },
    {
      "cell_type": "code",
      "source": [
        "import matplotlib.pyplot as plt\n",
        "\n",
        "x = np.linspace(0,2*np.pi,100)\n",
        "y = np.sin(x)\n",
        "\n",
        "plt.plot(x,y)\n",
        "plt.title('Sine Wave')\n",
        "plt.show()"
      ],
      "metadata": {
        "id": "IJPLdOs98zpU"
      },
      "execution_count": null,
      "outputs": []
    },
    {
      "cell_type": "markdown",
      "source": [
        "###7- Arrays merging and splitting"
      ],
      "metadata": {
        "id": "4Q4aWcjS9xES"
      }
    },
    {
      "cell_type": "markdown",
      "source": [
        "####7.1-Arrays merging"
      ],
      "metadata": {
        "id": "ivc3VFJq92h8"
      }
    },
    {
      "cell_type": "code",
      "source": [
        "a = np.array([1,2,3])\n",
        "b = np.array([4,5,6])\n",
        "\n",
        "# Vertical merge\n",
        "print(np.vstack((a,b)))\n",
        "\n",
        "# Horizontal Merge\n",
        "print(np.hstack((a,b)))"
      ],
      "metadata": {
        "id": "n1Ec_xLL9-DC"
      },
      "execution_count": null,
      "outputs": []
    },
    {
      "cell_type": "markdown",
      "source": [
        "####7.2-Arrays Splitting"
      ],
      "metadata": {
        "id": "mV-6e1Ni-wiN"
      }
    },
    {
      "cell_type": "code",
      "source": [
        "c= np.array([1,2,3,4,5,6])\n",
        "\n",
        "# divide into 2 parts\n",
        "print(np.split(c,2))\n",
        "\n",
        "# Define to 2 variables\n",
        "x , y = np.split(c,2)\n",
        "\n",
        "#Merge Array Vertical\n",
        "print(np.vstack((x,y)))"
      ],
      "metadata": {
        "id": "7xhHMrHY-10u"
      },
      "execution_count": null,
      "outputs": []
    },
    {
      "cell_type": "markdown",
      "source": [
        "###8-Arrays Sorting and Unique Elements"
      ],
      "metadata": {
        "id": "f9rg1cLtADDp"
      }
    },
    {
      "cell_type": "code",
      "source": [
        "a = np.array([5,2,7,3,8,6,8])\n",
        "\n",
        "# Sorted\n",
        "print(np.sort(a))\n",
        "\n",
        "# Unique elements\n",
        "print(np.unique(a))"
      ],
      "metadata": {
        "id": "S6c0aL1vALhM"
      },
      "execution_count": null,
      "outputs": []
    },
    {
      "cell_type": "markdown",
      "source": [
        "###9-Random Numbers in Numpy\n"
      ],
      "metadata": {
        "id": "QRU34eH7AbJV"
      }
    },
    {
      "cell_type": "code",
      "source": [
        "# Random numbers between 0 and 1\n",
        "print(np.random.rand(3,2)) #matrix --- 3 rows and 2 columns between 0 and 1\n",
        "\n",
        "# Random integers a given range\n",
        "print(np.random.randint(0,10,(3,2)))"
      ],
      "metadata": {
        "id": "K6MM7Rg2AmXa"
      },
      "execution_count": null,
      "outputs": []
    },
    {
      "cell_type": "markdown",
      "source": [
        "###10-Advanged Functions in Numpy"
      ],
      "metadata": {
        "id": "RWpdGireBj7-"
      }
    },
    {
      "cell_type": "markdown",
      "source": [
        "####10.1-Broadcasting"
      ],
      "metadata": {
        "id": "NXChR7-kBt4P"
      }
    },
    {
      "cell_type": "code",
      "source": [
        "a = np.array([1, 2, 3])\n",
        "b = np.array([[1], [2], [3]])\n",
        "\n",
        "# Sum with Broadcasting\n",
        "print(a + b)"
      ],
      "metadata": {
        "id": "hrbXqG2GBxo0"
      },
      "execution_count": null,
      "outputs": []
    },
    {
      "cell_type": "markdown",
      "source": [
        "####4-Linear Algebra"
      ],
      "metadata": {
        "id": "p10zJXqUB2eU"
      }
    },
    {
      "cell_type": "code",
      "source": [
        "# Multiply Arrays\n",
        "a = np.array([[1, 2], [3, 4]])\n",
        "b = np.array([[5, 6], [7, 8]])\n",
        "\n",
        "print(np.dot(a, b))"
      ],
      "metadata": {
        "id": "-8ZKXwtFB6_W"
      },
      "execution_count": null,
      "outputs": []
    },
    {
      "cell_type": "markdown",
      "source": [
        "##22.2- PANDAS"
      ],
      "metadata": {
        "id": "x0uWvo2zCRfM"
      }
    },
    {
      "cell_type": "markdown",
      "source": [
        "###1-Installing and İmport pandas"
      ],
      "metadata": {
        "id": "aCPrU7eoCV4j"
      }
    },
    {
      "cell_type": "code",
      "source": [
        "# İnstalling\n",
        "!pip install pandas\n",
        "\n",
        "# İmporting\n",
        "import pandas as pd"
      ],
      "metadata": {
        "colab": {
          "base_uri": "https://localhost:8080/"
        },
        "id": "ftMZO01qFPcJ",
        "outputId": "1b1f6d9c-4d14-4ef5-8bce-7d44e0bff4fb"
      },
      "execution_count": null,
      "outputs": [
        {
          "output_type": "stream",
          "name": "stdout",
          "text": [
            "Requirement already satisfied: pandas in /usr/local/lib/python3.10/dist-packages (2.0.3)\n",
            "Requirement already satisfied: python-dateutil>=2.8.2 in /usr/local/lib/python3.10/dist-packages (from pandas) (2.8.2)\n",
            "Requirement already satisfied: pytz>=2020.1 in /usr/local/lib/python3.10/dist-packages (from pandas) (2023.4)\n",
            "Requirement already satisfied: tzdata>=2022.1 in /usr/local/lib/python3.10/dist-packages (from pandas) (2024.1)\n",
            "Requirement already satisfied: numpy>=1.21.0 in /usr/local/lib/python3.10/dist-packages (from pandas) (1.25.2)\n",
            "Requirement already satisfied: six>=1.5 in /usr/local/lib/python3.10/dist-packages (from python-dateutil>=2.8.2->pandas) (1.16.0)\n"
          ]
        }
      ]
    },
    {
      "cell_type": "markdown",
      "source": [
        "###2-Basic Data Structures"
      ],
      "metadata": {
        "id": "2wi3PYXvFSho"
      }
    },
    {
      "cell_type": "markdown",
      "source": [
        "####1-Series"
      ],
      "metadata": {
        "id": "O20prZ-zFwa7"
      }
    },
    {
      "cell_type": "code",
      "source": [
        "# Creating a Series from a list\n",
        "s = pd.Series([1,2,3,4,5,6])\n",
        "print(s)\n",
        "\n",
        "#Creating a Series using string indexes\n",
        "s = pd.Series([1,2,3,4,5],index = ['a','b','c','d','e'])\n",
        "print(s)"
      ],
      "metadata": {
        "id": "7pounhEuF0rH"
      },
      "execution_count": null,
      "outputs": []
    },
    {
      "cell_type": "markdown",
      "source": [
        "####2-DataFrame"
      ],
      "metadata": {
        "id": "cFBw2gSmGxRd"
      }
    },
    {
      "cell_type": "code",
      "source": [
        "#1-Creating a DataFrame from the a dictionary\n",
        "data = {\n",
        "    'A':[1,2,3],\n",
        "    'B':[4,5,6],\n",
        "    'C':[7,8,9]\n",
        "}\n",
        "\n",
        "df = pd.DataFrame(data)\n",
        "print(df)\n",
        "\n",
        "# 2-Reading a dataframe from the CSV file\n",
        "df = pd.read_csv('data.csv')\n",
        "\n",
        "#3- Write to CSV file from the Dataframe\n",
        "df.to_csv('output.csv',index = False)"
      ],
      "metadata": {
        "id": "3RzUAXh6G6lQ"
      },
      "execution_count": null,
      "outputs": []
    },
    {
      "cell_type": "markdown",
      "source": [
        "###3-DataFrame Review and Summmarizationm"
      ],
      "metadata": {
        "id": "VkkWMiXAHuCF"
      }
    },
    {
      "cell_type": "markdown",
      "source": [
        "####1-First Rows and Last Rows"
      ],
      "metadata": {
        "id": "YP46bHMDQsYh"
      }
    },
    {
      "cell_type": "code",
      "source": [
        "print(df.head()) #First 5 rows\n",
        "print(df.tail()) #Last % rows"
      ],
      "metadata": {
        "id": "_L57-Ww5QrCt"
      },
      "execution_count": null,
      "outputs": []
    },
    {
      "cell_type": "markdown",
      "source": [
        "####2-General Information"
      ],
      "metadata": {
        "id": "nhVGef6tRDlU"
      }
    },
    {
      "cell_type": "code",
      "source": [
        "print(df.info()) # Information about DataFrame\n",
        "print(df.describe()) #Statical Summary\n",
        "print(df.shape()) # (Numbers of Rows , Numbers of Columns)\n",
        "print(df.columns) # Name of Columns\n",
        "print(df.index) # Info about index"
      ],
      "metadata": {
        "id": "Apru5SKGRIdB"
      },
      "execution_count": null,
      "outputs": []
    },
    {
      "cell_type": "markdown",
      "source": [
        "###4-Indexing And Slicing"
      ],
      "metadata": {
        "id": "OP-riIqIQ64S"
      }
    },
    {
      "cell_type": "markdown",
      "source": [
        "####1-Indexing : 'loc' and 'iloc'"
      ],
      "metadata": {
        "id": "_S36K5ZyR9rQ"
      }
    },
    {
      "cell_type": "code",
      "source": [
        "# Selection with index labels(label-based)\n",
        "print(df.loc[0]) # First rows\n",
        "print(df.loc[0:'A']) # All rows in column A\n",
        "\n",
        "#Selection by position(integer-location based)\n",
        "print(df.iloc[0]) # First rows\n",
        "print(df.iloc[:,0]) # All rows in first column"
      ],
      "metadata": {
        "id": "NT1P2GVJRB1-"
      },
      "execution_count": null,
      "outputs": []
    },
    {
      "cell_type": "markdown",
      "source": [
        "####2-Slicing"
      ],
      "metadata": {
        "id": "c9wPizVcS8ko"
      }
    },
    {
      "cell_type": "code",
      "source": [
        "print(df[1:3]) # second and third rows -- all columns\n",
        "print([['A','B']]) # A and B columns -- all rows"
      ],
      "metadata": {
        "id": "ofYN6zFfS9IC"
      },
      "execution_count": null,
      "outputs": []
    },
    {
      "cell_type": "markdown",
      "source": [
        "###5-Data Manipulation"
      ],
      "metadata": {
        "id": "z-wvowk7TXga"
      }
    },
    {
      "cell_type": "markdown",
      "source": [
        "####1-Adding and Deleting New Column"
      ],
      "metadata": {
        "id": "qekyn6uOTd17"
      }
    },
    {
      "cell_type": "code",
      "source": [
        "#Adding new column\n",
        "df['D'] = df['A'] + df['B'] #We sum A column and B column and define it as column D\n",
        "print(df)\n",
        "\n",
        "#Deleting column\n",
        "df = df.drop('D',axis = 1) # we deleting with 'drop()' keys argument.Axis = 1 is vertical\n",
        "print(df)\n"
      ],
      "metadata": {
        "id": "stV7zQBoTo1r"
      },
      "execution_count": null,
      "outputs": []
    },
    {
      "cell_type": "markdown",
      "source": [
        "####2-Adding and Deleting Row"
      ],
      "metadata": {
        "id": "hihgDyKsUyJ2"
      }
    },
    {
      "cell_type": "code",
      "source": [
        "#Adding new row\n",
        "df = df.append('A':2,'B':7,'C':12,ignore_index = True)\n",
        "print(df)\n",
        "\n",
        " #Deleting rows\n",
        " df = df.drop(0) # Deleting first row\n",
        "print(df)"
      ],
      "metadata": {
        "id": "37j89hPJUy0y"
      },
      "execution_count": null,
      "outputs": []
    },
    {
      "cell_type": "markdown",
      "source": [
        "####3-Filtering-Conditional Selection"
      ],
      "metadata": {
        "id": "OEwDcPioUzGD"
      }
    },
    {
      "cell_type": "code",
      "source": [
        "print(df[df['A'] > 1]) #Rows with column A greater than 1"
      ],
      "metadata": {
        "id": "9lVABZoKUzRX"
      },
      "execution_count": null,
      "outputs": []
    },
    {
      "cell_type": "markdown",
      "source": [
        "###6-Working with missing Data"
      ],
      "metadata": {
        "id": "CJIW2zqlUzbp"
      }
    },
    {
      "cell_type": "markdown",
      "source": [
        "####1-Find Missing Data"
      ],
      "metadata": {
        "id": "2tdc0wvXWLT1"
      }
    },
    {
      "cell_type": "code",
      "source": [
        "print(df.isnull()) # Where there are missing values True\n",
        "print(df.isnull().sum()) # Number of missing values in each column"
      ],
      "metadata": {
        "id": "3ytJLqf3Uzmh"
      },
      "execution_count": null,
      "outputs": []
    },
    {
      "cell_type": "markdown",
      "source": [
        "####2-Filling And Deleting Missing Data"
      ],
      "metadata": {
        "id": "0nuAyiz9UzyF"
      }
    },
    {
      "cell_type": "code",
      "source": [
        "# Deleting missing Data\n",
        " df = df.dropna() # Delete rows with missing data\n",
        " df = df.dropna(axis = 1) #Delete columns with missing data\n",
        "\n",
        "        # Filling missing data\n",
        "#1- Fill missing data with 0\n",
        "df = df.fillna(0)\n",
        "#2- fill missing data with mean\n",
        "df = df.fillna(df.mean())\n",
        "#3- Fill missing data with median\n",
        "df = df.fillna(df.median())"
      ],
      "metadata": {
        "id": "bZMyTJT_Uz-P"
      },
      "execution_count": null,
      "outputs": []
    },
    {
      "cell_type": "markdown",
      "source": [
        "###7-Grouping And Aggregation"
      ],
      "metadata": {
        "id": "9oh7EXkpYOa1"
      }
    },
    {
      "cell_type": "code",
      "source": [
        "grouped = df.groupby('A')\n",
        "print(grouped.mean())\n",
        "print(grouped.sum())"
      ],
      "metadata": {
        "id": "4C5YHDfgYgz8"
      },
      "execution_count": null,
      "outputs": []
    },
    {
      "cell_type": "markdown",
      "source": [
        "###8-Pivot Table\n",
        "- A Pivot Table is an interactive way to quickly summarize large amounts the data."
      ],
      "metadata": {
        "id": "v7NB1IlPZmdE"
      }
    },
    {
      "cell_type": "code",
      "source": [
        "import pandas as pd\n",
        "\n",
        "# Create a DataFrame\n",
        "data = {\n",
        "    'Date': ['2023-01-01', '2023-01-01', '2023-01-02', '2023-01-02', '2023-01-03'],\n",
        "    'City': ['New York', 'Los Angeles', 'New York', 'Los Angeles', 'New York'],\n",
        "    'Sales': [250, 200, 300, 150, 400],\n",
        "    'Expenses': [150, 100, 200, 80, 250]\n",
        "}\n",
        "\n",
        "# 1- Convert to Dataframe\n",
        "df = pd.DataFrame(data)\n",
        "\n",
        "# 2- Define Basic Pivot Table\n",
        "pivot_basic = pd.pivot_table(df,index = 'Date',columns = 'City',values = 'Sales',aggfunc = 'sum')\n",
        "print('Basic Pivot Table :')\n",
        "print(pivot_basic)\n",
        "\n",
        "# 3- Pivot Table with multiple Aggregation Functions\n",
        "pivot_multi_agg = pd.pivot_table(df,index = 'Date',columns = 'City',values = 'Sales',aggfunc = [sum,mean])\n",
        "print('Pivot Table With Multiple Aggregation :')\n",
        "print(pivot_multi_agg)\n",
        "\n",
        "# 4- Pivot Table with Multiple Values\n",
        "pivot_multi_val = pd.pivot_table(df,index = 'Date',columns = 'City',values=['Sales','Expenses'],aggfunc='sum')\n",
        "print('Pivot Table with Multiple Values :')\n",
        "print(pivot_multi_val)\n",
        "\n",
        "# 5- Filling Missing Values\n",
        "pivot_fill = pd.pivot_table(df, index='Date',columns = 'City',values = 'Sales',aggfunc = 'sum',fill_value = 0) # Filling with 0\n",
        "print(pivot_fill)\n",
        "\n",
        "# 6- Adding Margins(subtotals)\n",
        "pivot_margins = pd.pivot_table(df,index= 'Date',columns = 'City',values = 'Sales',aggfunc = 'sum',margins = True)\n",
        "print(pivot_margins)"
      ],
      "metadata": {
        "colab": {
          "base_uri": "https://localhost:8080/"
        },
        "id": "78KlIo7IbPU6",
        "outputId": "461c709b-10c4-438c-e4c1-a415e7023b61"
      },
      "execution_count": null,
      "outputs": [
        {
          "output_type": "stream",
          "name": "stdout",
          "text": [
            "Basic Pivot Table :\n",
            "City        Los Angeles  New York\n",
            "Date                             \n",
            "2023-01-01        200.0     250.0\n",
            "2023-01-02        150.0     300.0\n",
            "2023-01-03          NaN     400.0\n"
          ]
        }
      ]
    },
    {
      "cell_type": "markdown",
      "source": [
        "###9-Merge And Concat"
      ],
      "metadata": {
        "id": "VlEmGze9fbn6"
      }
    },
    {
      "cell_type": "markdown",
      "source": [
        "####1-Merge"
      ],
      "metadata": {
        "id": "XlXH1IuVfv9H"
      }
    },
    {
      "cell_type": "code",
      "source": [
        "df1 = pd.DataFrame({'key': ['A', 'B', 'C'], 'value': [1, 2, 3]})\n",
        "df2 = pd.DataFrame({'key': ['A', 'B', 'D'], 'value': [4, 5, 6]})\n",
        "\n",
        "# inner join\n",
        "merged_in = pd.merge(df1,df2, on = 'key') # Contains elements that are in both dataframe(df1,df2)\n",
        "print(merged_in)\n",
        "\n",
        "#outer join\n",
        "merged_out = pd.merge(df1,df2,on = 'key',how = 'outer')\n",
        "print(merged_out)"
      ],
      "metadata": {
        "colab": {
          "base_uri": "https://localhost:8080/"
        },
        "id": "PpC0jqNqf3uY",
        "outputId": "2fa8852c-5a55-4a51-ba6e-48e551144ffe"
      },
      "execution_count": null,
      "outputs": [
        {
          "output_type": "stream",
          "name": "stdout",
          "text": [
            "  key  value_x  value_y\n",
            "0   A        1        4\n",
            "1   B        2        5\n",
            "  key  value_x  value_y\n",
            "0   A      1.0      4.0\n",
            "1   B      2.0      5.0\n",
            "2   C      3.0      NaN\n",
            "3   D      NaN      6.0\n"
          ]
        }
      ]
    },
    {
      "cell_type": "markdown",
      "source": [
        "####2-Concat"
      ],
      "metadata": {
        "id": "BONx7729fpD7"
      }
    },
    {
      "cell_type": "code",
      "source": [
        "df1 = pd.DataFrame({'A': [1, 2], 'B': [3, 4]})\n",
        "df2 = pd.DataFrame({'A': [5, 6], 'B': [7, 8]})\n",
        "\n",
        "# Concatenate by row\n",
        "\n",
        "concatenated = pd.concat([df1,df2],axis = 0)\n",
        "print(concatenated)\n",
        "\n",
        "# Concatenate by column\n",
        "concatenated = pd.concat([df1,df2],axis = 1)\n",
        "print(concatenated)"
      ],
      "metadata": {
        "colab": {
          "base_uri": "https://localhost:8080/"
        },
        "id": "FTcZ3vK3g_5C",
        "outputId": "6802e6c4-7a94-4988-d7c1-245033eabcef"
      },
      "execution_count": null,
      "outputs": [
        {
          "output_type": "stream",
          "name": "stdout",
          "text": [
            "   A  B\n",
            "0  1  3\n",
            "1  2  4\n",
            "0  5  7\n",
            "1  6  8\n",
            "   A  B  A  B\n",
            "0  1  3  5  7\n",
            "1  2  4  6  8\n"
          ]
        }
      ]
    },
    {
      "cell_type": "markdown",
      "source": [
        "###10-Time Series"
      ],
      "metadata": {
        "id": "Vh6yDxtMh3Q6"
      }
    },
    {
      "cell_type": "code",
      "source": [
        "#İmporting Libraries\n",
        "import pandas as pd\n",
        "import numpy as np\n",
        "# Create date range\n",
        "date_rng = pd.date_range(start = '2021-01-01',end = '2021-01-10',freq = 'D')\n",
        "\n",
        "# Create a timeseries dataframe\n",
        "df_time = pd.DataFrame(date_rng,columns=['date'])\n",
        "df_time['data'] = np.random.randint(0,100,size = (len(date_rng)))\n",
        "df_time.set_index('date',inplace = True)\n",
        "print(df_time)\n",
        "\n",
        "# Slicing time series data\n",
        "print(df_time['2021-01-01':'2021-01-05'])"
      ],
      "metadata": {
        "id": "rCUE2-n6h7NW"
      },
      "execution_count": null,
      "outputs": []
    },
    {
      "cell_type": "markdown",
      "source": [
        "###11-Advanged Data Manipulation"
      ],
      "metadata": {
        "id": "3bmxK_jdPpv5"
      }
    },
    {
      "cell_type": "markdown",
      "source": [
        "####1-Apply Function"
      ],
      "metadata": {
        "id": "GkaXeOZQPxlz"
      }
    },
    {
      "cell_type": "code",
      "source": [
        "# Apply function to each elements\n",
        "df['E'] = df['A'].apply(lambda x:x**2)\n",
        "print(df)"
      ],
      "metadata": {
        "id": "RkopAE_DP02V"
      },
      "execution_count": null,
      "outputs": []
    },
    {
      "cell_type": "markdown",
      "source": [
        "####2- 'map' and 'applymap'"
      ],
      "metadata": {
        "id": "8YUo0FwbP1AY"
      }
    },
    {
      "cell_type": "code",
      "source": [
        "# Using map on Series\n",
        "df['F'] = df['A'].map({1 : 'one',2:'two',3:'three'})\n",
        "print(df)\n",
        "\n",
        "# using applymap on DataFrame\n",
        "df = df.applymanp(lambda x :x*2)\n",
        "print(df)"
      ],
      "metadata": {
        "id": "pXN8L-DnP1Nr"
      },
      "execution_count": null,
      "outputs": []
    },
    {
      "cell_type": "markdown",
      "source": [
        "###12-VISUALIZE"
      ],
      "metadata": {
        "id": "yFfi4ZrnQwlT"
      }
    },
    {
      "cell_type": "code",
      "source": [
        "#1-İmporting Libraries\n",
        "import pandas as pd\n",
        "import matplotlib.pyplot as plt\n",
        "import seaborn as sns"
      ],
      "metadata": {
        "id": "Gsu-INGhQw6P"
      },
      "execution_count": null,
      "outputs": []
    },
    {
      "cell_type": "code",
      "source": [
        "#2-Create An Example DataFrame\n",
        "data = {\n",
        "    'Date': ['2023-01-01', '2023-01-01', '2023-01-02', '2023-01-02', '2023-01-03'],\n",
        "    'City': ['New York', 'Los Angeles', 'New York', 'Los Angeles', 'New York'],\n",
        "    'Sales': [250, 200, 300, 150, 400],\n",
        "    'Expenses': [150, 100, 200, 80, 250]\n",
        "}\n",
        "\n",
        "df = pd.DataFrame(data)"
      ],
      "metadata": {
        "id": "8ZVSa-kfQxMq"
      },
      "execution_count": null,
      "outputs": []
    },
    {
      "cell_type": "markdown",
      "source": [
        "####1-Visualize with matplotlib"
      ],
      "metadata": {
        "id": "5W4YaqxTQ4Wu"
      }
    },
    {
      "cell_type": "code",
      "source": [
        "# LinePlot\n",
        "plt.figure(figsize = (10,6))\n",
        "plt.plot(df['Date'],df['Sales'],marker = 'o',linestyle='-',color = 'b',label = 'Sales')\n",
        "plt.plot(df['Date'],df['Expenses'],marker = 'o',linestyle='-',color = 'r',label = 'Expenses')\n",
        "plt.xlabel('Date')\n",
        "plt.ylabel('Amount')\n",
        "plt.title('Sales and Expenses Over Time')\n",
        "plt.legend()\n",
        "plt.show()"
      ],
      "metadata": {
        "colab": {
          "base_uri": "https://localhost:8080/",
          "height": 564
        },
        "id": "xUmjSeKWYpOM",
        "outputId": "47d0cb56-dcb8-4ce6-de5c-eaa87d06a8d4"
      },
      "execution_count": null,
      "outputs": [
        {
          "output_type": "display_data",
          "data": {
            "text/plain": [
              "<Figure size 1000x600 with 1 Axes>"
            ],
            "image/png": "[encoded data removed]"
          },
          "metadata": {}
        }
      ]
    },
    {
      "cell_type": "code",
      "source": [
        "# 2- BarPlot\n",
        "plt.figure(figsize=(10,6))\n",
        "plt.bar(df['City'],df['Sales'],color = 'b',label = 'Sales')\n",
        "plt.bar(df['City'],df['Expenses'],color ='r',label = 'Expenses')\n",
        "plt.xlabel('City')\n",
        "plt.ylabel('Amount')\n",
        "plt.title('Sales and Expenses by City')\n",
        "plt.legend()\n",
        "plt.show()"
      ],
      "metadata": {
        "colab": {
          "base_uri": "https://localhost:8080/",
          "height": 564
        },
        "id": "k8yf_dSyac-d",
        "outputId": "06a5276a-910d-42c2-907f-f701a272d987"
      },
      "execution_count": null,
      "outputs": [
        {
          "output_type": "display_data",
          "data": {
            "text/plain": [
              "<Figure size 1000x600 with 1 Axes>"
            ],
            "image/png": "[encoded data removed]"
          },
          "metadata": {}
        }
      ]
    },
    {
      "cell_type": "markdown",
      "source": [
        "####2-Visualize with Seaborn\n",
        "- Seaborn is built on top of Matplotlib and provides a high-level interface for drawing attractive and informative statistical graphics.\n",
        "\n"
      ],
      "metadata": {
        "id": "olBQzmb6Yxwx"
      }
    },
    {
      "cell_type": "code",
      "source": [
        "plt.figure(figsize=(10,6))\n",
        "sns.lineplot(x = 'Date',y = 'Sales',data = df,marker = 'o',label = 'Sales')\n",
        "sns.lineplot(x = 'Date',y = 'Expenses',data = df ,marker = 'o', label = 'Expenses')\n",
        "plt.xlabel('Date')\n",
        "plt.ylabel('Amount')\n",
        "plt.title('Sales and Expenses Over Time')\n",
        "plt.legend()\n",
        "plt.show()"
      ],
      "metadata": {
        "colab": {
          "base_uri": "https://localhost:8080/",
          "height": 564
        },
        "id": "KNkpGXKaboUI",
        "outputId": "c607739d-aa40-4318-d8a0-0843149b9148"
      },
      "execution_count": null,
      "outputs": [
        {
          "output_type": "display_data",
          "data": {
            "text/plain": [
              "<Figure size 1000x600 with 1 Axes>"
            ],
            "image/png": "[encoded data removed]"
          },
          "metadata": {}
        }
      ]
    },
    {
      "cell_type": "code",
      "source": [
        "# 2- BarPlot\n",
        "plt.figure(figsize = (10,6))\n",
        "sns.barplot(x = 'City',y = 'Sales',data = df,color = 'blue',label ='Sales')\n",
        "sns.barplot(x = 'City',y = 'Expenses',data = df,color = 'red',alpha = 0.7,label = 'Expenses')\n",
        "plt.xlabel('City')\n",
        "plt.ylabel('Amount')\n",
        "plt.title('Sales and Expenses by City')\n",
        "plt.legend()\n",
        "plt.show()"
      ],
      "metadata": {
        "colab": {
          "base_uri": "https://localhost:8080/",
          "height": 564
        },
        "id": "2jNuepKsboWp",
        "outputId": "41a8a47e-7282-45d2-8ae1-018d22dcb711"
      },
      "execution_count": null,
      "outputs": [
        {
          "output_type": "display_data",
          "data": {
            "text/plain": [
              "<Figure size 1000x600 with 1 Axes>"
            ],
            "image/png": "[encoded data removed]"
          },
          "metadata": {}
        }
      ]
    },
    {
      "cell_type": "code",
      "source": [
        "# Box Plot\n",
        "plt.figure(figsize = (10,6))\n",
        "sns.boxplot(x = 'City',y = 'Sales',data = df)\n",
        "plt.xlabel('City')\n",
        "plt.ylabel('Sales')\n",
        "plt.title('Sales Distribution by City')\n",
        "plt.show()"
      ],
      "metadata": {
        "colab": {
          "base_uri": "https://localhost:8080/",
          "height": 564
        },
        "id": "30UqrRB3e4HM",
        "outputId": "764b1dd5-e48e-4f88-ff70-da1848659b5b"
      },
      "execution_count": null,
      "outputs": [
        {
          "output_type": "display_data",
          "data": {
            "text/plain": [
              "<Figure size 1000x600 with 1 Axes>"
            ],
            "image/png": "[encoded data removed]"
          },
          "metadata": {}
        }
      ]
    },
    {
      "cell_type": "markdown",
      "source": [
        "####3- Customizing Plots"
      ],
      "metadata": {
        "id": "T6qZJ0rjf7-U"
      }
    },
    {
      "cell_type": "code",
      "source": [
        "plt.figure(figsize=(10, 6))\n",
        "sns.lineplot(x='Date', y='Sales', data=df, marker='o', label='Sales')\n",
        "sns.lineplot(x='Date', y='Expenses', data=df, marker='o', label='Expenses')\n",
        "\n",
        "# Customizing the plot\n",
        "plt.xlabel('Date')\n",
        "plt.ylabel('Amount')\n",
        "plt.title('Sales and Expenses Over Time', fontsize=16, fontweight='bold')\n",
        "plt.xticks(rotation=45)\n",
        "plt.yticks(fontsize=12)\n",
        "plt.legend(title='Legend', title_fontsize='13', fontsize='11')\n",
        "plt.grid(True)\n",
        "plt.show()"
      ],
      "metadata": {
        "colab": {
          "base_uri": "https://localhost:8080/",
          "height": 619
        },
        "id": "fqRGbos8gE96",
        "outputId": "e5551bcf-e219-4318-a9e5-4bb2d0a28f5e"
      },
      "execution_count": null,
      "outputs": [
        {
          "output_type": "display_data",
          "data": {
            "text/plain": [
              "<Figure size 1000x600 with 1 Axes>"
            ],
            "image/png": "[encoded data removed]"
          },
          "metadata": {}
        }
      ]
    }
  ]
}